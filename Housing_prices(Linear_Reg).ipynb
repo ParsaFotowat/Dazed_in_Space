{
  "nbformat": 4,
  "nbformat_minor": 0,
  "metadata": {
    "colab": {
      "provenance": [],
      "authorship_tag": "ABX9TyPDJ5R+l5sbL/5pguRt9qsW",
      "include_colab_link": true
    },
    "kernelspec": {
      "name": "python3",
      "display_name": "Python 3"
    },
    "language_info": {
      "name": "python"
    }
  },
  "cells": [
    {
      "cell_type": "markdown",
      "metadata": {
        "id": "view-in-github",
        "colab_type": "text"
      },
      "source": [
        "<a href=\"https://colab.research.google.com/github/ParsaFotowat/ML_Projects/blob/main/Housing_prices(Linear_Reg).ipynb\" target=\"_parent\"><img src=\"https://colab.research.google.com/assets/colab-badge.svg\" alt=\"Open In Colab\"/></a>"
      ]
    },
    {
      "cell_type": "code",
      "source": [
        "import numpy as np\n",
        "import pandas as pd"
      ],
      "metadata": {
        "id": "iALFDVdTYVU7"
      },
      "execution_count": 2,
      "outputs": []
    },
    {
      "cell_type": "code",
      "source": [
        "import matplotlib.pyplot as plt\n",
        "import seaborn as sns"
      ],
      "metadata": {
        "id": "cQGn_0uhZF3i"
      },
      "execution_count": 3,
      "outputs": []
    },
    {
      "cell_type": "code",
      "source": [
        "%matplotlib inline"
      ],
      "metadata": {
        "id": "y6aRFp7GZHIq"
      },
      "execution_count": 4,
      "outputs": []
    },
    {
      "cell_type": "code",
      "source": [
        "df=pd.read_csv(\"USA_Housing.csv\")"
      ],
      "metadata": {
        "id": "DHAl-jHA1UPE"
      },
      "execution_count": 8,
      "outputs": []
    },
    {
      "cell_type": "code",
      "source": [
        "df.head()"
      ],
      "metadata": {
        "colab": {
          "base_uri": "https://localhost:8080/",
          "height": 206
        },
        "id": "KzXeiVq21i4F",
        "outputId": "4ed1f04e-3f4c-42b0-d6d7-97a3b833af18"
      },
      "execution_count": 9,
      "outputs": [
        {
          "output_type": "execute_result",
          "data": {
            "text/plain": [
              "   Avg. Area Income  Avg. Area House Age  Avg. Area Number of Rooms  \\\n",
              "0      79545.458574             5.682861                   7.009188   \n",
              "1      79248.642455             6.002900                   6.730821   \n",
              "2      61287.067179             5.865890                   8.512727   \n",
              "3      63345.240046             7.188236                   5.586729   \n",
              "4      59982.197226             5.040555                   7.839388   \n",
              "\n",
              "   Avg. Area Number of Bedrooms  Area Population         Price  \\\n",
              "0                          4.09     23086.800503  1.059034e+06   \n",
              "1                          3.09     40173.072174  1.505891e+06   \n",
              "2                          5.13     36882.159400  1.058988e+06   \n",
              "3                          3.26     34310.242831  1.260617e+06   \n",
              "4                          4.23     26354.109472  6.309435e+05   \n",
              "\n",
              "                                             Address  \n",
              "0  208 Michael Ferry Apt. 674\\nLaurabury, NE 3701...  \n",
              "1  188 Johnson Views Suite 079\\nLake Kathleen, CA...  \n",
              "2  9127 Elizabeth Stravenue\\nDanieltown, WI 06482...  \n",
              "3                          USS Barnett\\nFPO AP 44820  \n",
              "4                         USNS Raymond\\nFPO AE 09386  "
            ],
            "text/html": [
              "\n",
              "  <div id=\"df-654d7959-b70f-464f-b83d-ec629af47672\" class=\"colab-df-container\">\n",
              "    <div>\n",
              "<style scoped>\n",
              "    .dataframe tbody tr th:only-of-type {\n",
              "        vertical-align: middle;\n",
              "    }\n",
              "\n",
              "    .dataframe tbody tr th {\n",
              "        vertical-align: top;\n",
              "    }\n",
              "\n",
              "    .dataframe thead th {\n",
              "        text-align: right;\n",
              "    }\n",
              "</style>\n",
              "<table border=\"1\" class=\"dataframe\">\n",
              "  <thead>\n",
              "    <tr style=\"text-align: right;\">\n",
              "      <th></th>\n",
              "      <th>Avg. Area Income</th>\n",
              "      <th>Avg. Area House Age</th>\n",
              "      <th>Avg. Area Number of Rooms</th>\n",
              "      <th>Avg. Area Number of Bedrooms</th>\n",
              "      <th>Area Population</th>\n",
              "      <th>Price</th>\n",
              "      <th>Address</th>\n",
              "    </tr>\n",
              "  </thead>\n",
              "  <tbody>\n",
              "    <tr>\n",
              "      <th>0</th>\n",
              "      <td>79545.458574</td>\n",
              "      <td>5.682861</td>\n",
              "      <td>7.009188</td>\n",
              "      <td>4.09</td>\n",
              "      <td>23086.800503</td>\n",
              "      <td>1.059034e+06</td>\n",
              "      <td>208 Michael Ferry Apt. 674\\nLaurabury, NE 3701...</td>\n",
              "    </tr>\n",
              "    <tr>\n",
              "      <th>1</th>\n",
              "      <td>79248.642455</td>\n",
              "      <td>6.002900</td>\n",
              "      <td>6.730821</td>\n",
              "      <td>3.09</td>\n",
              "      <td>40173.072174</td>\n",
              "      <td>1.505891e+06</td>\n",
              "      <td>188 Johnson Views Suite 079\\nLake Kathleen, CA...</td>\n",
              "    </tr>\n",
              "    <tr>\n",
              "      <th>2</th>\n",
              "      <td>61287.067179</td>\n",
              "      <td>5.865890</td>\n",
              "      <td>8.512727</td>\n",
              "      <td>5.13</td>\n",
              "      <td>36882.159400</td>\n",
              "      <td>1.058988e+06</td>\n",
              "      <td>9127 Elizabeth Stravenue\\nDanieltown, WI 06482...</td>\n",
              "    </tr>\n",
              "    <tr>\n",
              "      <th>3</th>\n",
              "      <td>63345.240046</td>\n",
              "      <td>7.188236</td>\n",
              "      <td>5.586729</td>\n",
              "      <td>3.26</td>\n",
              "      <td>34310.242831</td>\n",
              "      <td>1.260617e+06</td>\n",
              "      <td>USS Barnett\\nFPO AP 44820</td>\n",
              "    </tr>\n",
              "    <tr>\n",
              "      <th>4</th>\n",
              "      <td>59982.197226</td>\n",
              "      <td>5.040555</td>\n",
              "      <td>7.839388</td>\n",
              "      <td>4.23</td>\n",
              "      <td>26354.109472</td>\n",
              "      <td>6.309435e+05</td>\n",
              "      <td>USNS Raymond\\nFPO AE 09386</td>\n",
              "    </tr>\n",
              "  </tbody>\n",
              "</table>\n",
              "</div>\n",
              "    <div class=\"colab-df-buttons\">\n",
              "\n",
              "  <div class=\"colab-df-container\">\n",
              "    <button class=\"colab-df-convert\" onclick=\"convertToInteractive('df-654d7959-b70f-464f-b83d-ec629af47672')\"\n",
              "            title=\"Convert this dataframe to an interactive table.\"\n",
              "            style=\"display:none;\">\n",
              "\n",
              "  <svg xmlns=\"http://www.w3.org/2000/svg\" height=\"24px\" viewBox=\"0 -960 960 960\">\n",
              "    <path d=\"M120-120v-720h720v720H120Zm60-500h600v-160H180v160Zm220 220h160v-160H400v160Zm0 220h160v-160H400v160ZM180-400h160v-160H180v160Zm440 0h160v-160H620v160ZM180-180h160v-160H180v160Zm440 0h160v-160H620v160Z\"/>\n",
              "  </svg>\n",
              "    </button>\n",
              "\n",
              "  <style>\n",
              "    .colab-df-container {\n",
              "      display:flex;\n",
              "      gap: 12px;\n",
              "    }\n",
              "\n",
              "    .colab-df-convert {\n",
              "      background-color: #E8F0FE;\n",
              "      border: none;\n",
              "      border-radius: 50%;\n",
              "      cursor: pointer;\n",
              "      display: none;\n",
              "      fill: #1967D2;\n",
              "      height: 32px;\n",
              "      padding: 0 0 0 0;\n",
              "      width: 32px;\n",
              "    }\n",
              "\n",
              "    .colab-df-convert:hover {\n",
              "      background-color: #E2EBFA;\n",
              "      box-shadow: 0px 1px 2px rgba(60, 64, 67, 0.3), 0px 1px 3px 1px rgba(60, 64, 67, 0.15);\n",
              "      fill: #174EA6;\n",
              "    }\n",
              "\n",
              "    .colab-df-buttons div {\n",
              "      margin-bottom: 4px;\n",
              "    }\n",
              "\n",
              "    [theme=dark] .colab-df-convert {\n",
              "      background-color: #3B4455;\n",
              "      fill: #D2E3FC;\n",
              "    }\n",
              "\n",
              "    [theme=dark] .colab-df-convert:hover {\n",
              "      background-color: #434B5C;\n",
              "      box-shadow: 0px 1px 3px 1px rgba(0, 0, 0, 0.15);\n",
              "      filter: drop-shadow(0px 1px 2px rgba(0, 0, 0, 0.3));\n",
              "      fill: #FFFFFF;\n",
              "    }\n",
              "  </style>\n",
              "\n",
              "    <script>\n",
              "      const buttonEl =\n",
              "        document.querySelector('#df-654d7959-b70f-464f-b83d-ec629af47672 button.colab-df-convert');\n",
              "      buttonEl.style.display =\n",
              "        google.colab.kernel.accessAllowed ? 'block' : 'none';\n",
              "\n",
              "      async function convertToInteractive(key) {\n",
              "        const element = document.querySelector('#df-654d7959-b70f-464f-b83d-ec629af47672');\n",
              "        const dataTable =\n",
              "          await google.colab.kernel.invokeFunction('convertToInteractive',\n",
              "                                                    [key], {});\n",
              "        if (!dataTable) return;\n",
              "\n",
              "        const docLinkHtml = 'Like what you see? Visit the ' +\n",
              "          '<a target=\"_blank\" href=https://colab.research.google.com/notebooks/data_table.ipynb>data table notebook</a>'\n",
              "          + ' to learn more about interactive tables.';\n",
              "        element.innerHTML = '';\n",
              "        dataTable['output_type'] = 'display_data';\n",
              "        await google.colab.output.renderOutput(dataTable, element);\n",
              "        const docLink = document.createElement('div');\n",
              "        docLink.innerHTML = docLinkHtml;\n",
              "        element.appendChild(docLink);\n",
              "      }\n",
              "    </script>\n",
              "  </div>\n",
              "\n",
              "\n",
              "<div id=\"df-a2b70f80-a2e0-4d2b-9729-b53b9f5b571a\">\n",
              "  <button class=\"colab-df-quickchart\" onclick=\"quickchart('df-a2b70f80-a2e0-4d2b-9729-b53b9f5b571a')\"\n",
              "            title=\"Suggest charts.\"\n",
              "            style=\"display:none;\">\n",
              "\n",
              "<svg xmlns=\"http://www.w3.org/2000/svg\" height=\"24px\"viewBox=\"0 0 24 24\"\n",
              "     width=\"24px\">\n",
              "    <g>\n",
              "        <path d=\"M19 3H5c-1.1 0-2 .9-2 2v14c0 1.1.9 2 2 2h14c1.1 0 2-.9 2-2V5c0-1.1-.9-2-2-2zM9 17H7v-7h2v7zm4 0h-2V7h2v10zm4 0h-2v-4h2v4z\"/>\n",
              "    </g>\n",
              "</svg>\n",
              "  </button>\n",
              "\n",
              "<style>\n",
              "  .colab-df-quickchart {\n",
              "      --bg-color: #E8F0FE;\n",
              "      --fill-color: #1967D2;\n",
              "      --hover-bg-color: #E2EBFA;\n",
              "      --hover-fill-color: #174EA6;\n",
              "      --disabled-fill-color: #AAA;\n",
              "      --disabled-bg-color: #DDD;\n",
              "  }\n",
              "\n",
              "  [theme=dark] .colab-df-quickchart {\n",
              "      --bg-color: #3B4455;\n",
              "      --fill-color: #D2E3FC;\n",
              "      --hover-bg-color: #434B5C;\n",
              "      --hover-fill-color: #FFFFFF;\n",
              "      --disabled-bg-color: #3B4455;\n",
              "      --disabled-fill-color: #666;\n",
              "  }\n",
              "\n",
              "  .colab-df-quickchart {\n",
              "    background-color: var(--bg-color);\n",
              "    border: none;\n",
              "    border-radius: 50%;\n",
              "    cursor: pointer;\n",
              "    display: none;\n",
              "    fill: var(--fill-color);\n",
              "    height: 32px;\n",
              "    padding: 0;\n",
              "    width: 32px;\n",
              "  }\n",
              "\n",
              "  .colab-df-quickchart:hover {\n",
              "    background-color: var(--hover-bg-color);\n",
              "    box-shadow: 0 1px 2px rgba(60, 64, 67, 0.3), 0 1px 3px 1px rgba(60, 64, 67, 0.15);\n",
              "    fill: var(--button-hover-fill-color);\n",
              "  }\n",
              "\n",
              "  .colab-df-quickchart-complete:disabled,\n",
              "  .colab-df-quickchart-complete:disabled:hover {\n",
              "    background-color: var(--disabled-bg-color);\n",
              "    fill: var(--disabled-fill-color);\n",
              "    box-shadow: none;\n",
              "  }\n",
              "\n",
              "  .colab-df-spinner {\n",
              "    border: 2px solid var(--fill-color);\n",
              "    border-color: transparent;\n",
              "    border-bottom-color: var(--fill-color);\n",
              "    animation:\n",
              "      spin 1s steps(1) infinite;\n",
              "  }\n",
              "\n",
              "  @keyframes spin {\n",
              "    0% {\n",
              "      border-color: transparent;\n",
              "      border-bottom-color: var(--fill-color);\n",
              "      border-left-color: var(--fill-color);\n",
              "    }\n",
              "    20% {\n",
              "      border-color: transparent;\n",
              "      border-left-color: var(--fill-color);\n",
              "      border-top-color: var(--fill-color);\n",
              "    }\n",
              "    30% {\n",
              "      border-color: transparent;\n",
              "      border-left-color: var(--fill-color);\n",
              "      border-top-color: var(--fill-color);\n",
              "      border-right-color: var(--fill-color);\n",
              "    }\n",
              "    40% {\n",
              "      border-color: transparent;\n",
              "      border-right-color: var(--fill-color);\n",
              "      border-top-color: var(--fill-color);\n",
              "    }\n",
              "    60% {\n",
              "      border-color: transparent;\n",
              "      border-right-color: var(--fill-color);\n",
              "    }\n",
              "    80% {\n",
              "      border-color: transparent;\n",
              "      border-right-color: var(--fill-color);\n",
              "      border-bottom-color: var(--fill-color);\n",
              "    }\n",
              "    90% {\n",
              "      border-color: transparent;\n",
              "      border-bottom-color: var(--fill-color);\n",
              "    }\n",
              "  }\n",
              "</style>\n",
              "\n",
              "  <script>\n",
              "    async function quickchart(key) {\n",
              "      const quickchartButtonEl =\n",
              "        document.querySelector('#' + key + ' button');\n",
              "      quickchartButtonEl.disabled = true;  // To prevent multiple clicks.\n",
              "      quickchartButtonEl.classList.add('colab-df-spinner');\n",
              "      try {\n",
              "        const charts = await google.colab.kernel.invokeFunction(\n",
              "            'suggestCharts', [key], {});\n",
              "      } catch (error) {\n",
              "        console.error('Error during call to suggestCharts:', error);\n",
              "      }\n",
              "      quickchartButtonEl.classList.remove('colab-df-spinner');\n",
              "      quickchartButtonEl.classList.add('colab-df-quickchart-complete');\n",
              "    }\n",
              "    (() => {\n",
              "      let quickchartButtonEl =\n",
              "        document.querySelector('#df-a2b70f80-a2e0-4d2b-9729-b53b9f5b571a button');\n",
              "      quickchartButtonEl.style.display =\n",
              "        google.colab.kernel.accessAllowed ? 'block' : 'none';\n",
              "    })();\n",
              "  </script>\n",
              "</div>\n",
              "    </div>\n",
              "  </div>\n"
            ]
          },
          "metadata": {},
          "execution_count": 9
        }
      ]
    },
    {
      "cell_type": "code",
      "source": [
        "df.info()"
      ],
      "metadata": {
        "colab": {
          "base_uri": "https://localhost:8080/"
        },
        "id": "QMGvHZej1w7L",
        "outputId": "95c2f81b-5403-4fa3-e3bc-5064f11bfeba"
      },
      "execution_count": 10,
      "outputs": [
        {
          "output_type": "stream",
          "name": "stdout",
          "text": [
            "<class 'pandas.core.frame.DataFrame'>\n",
            "RangeIndex: 5000 entries, 0 to 4999\n",
            "Data columns (total 7 columns):\n",
            " #   Column                        Non-Null Count  Dtype  \n",
            "---  ------                        --------------  -----  \n",
            " 0   Avg. Area Income              5000 non-null   float64\n",
            " 1   Avg. Area House Age           5000 non-null   float64\n",
            " 2   Avg. Area Number of Rooms     5000 non-null   float64\n",
            " 3   Avg. Area Number of Bedrooms  5000 non-null   float64\n",
            " 4   Area Population               5000 non-null   float64\n",
            " 5   Price                         5000 non-null   float64\n",
            " 6   Address                       5000 non-null   object \n",
            "dtypes: float64(6), object(1)\n",
            "memory usage: 273.6+ KB\n"
          ]
        }
      ]
    },
    {
      "cell_type": "code",
      "source": [
        "sns.pairplot(df)"
      ],
      "metadata": {
        "id": "2zWt1qPR5dkS"
      },
      "execution_count": null,
      "outputs": []
    },
    {
      "cell_type": "code",
      "source": [
        "sns.displot(df['Price'])"
      ],
      "metadata": {
        "colab": {
          "base_uri": "https://localhost:8080/",
          "height": 523
        },
        "id": "bcQErDvw5055",
        "outputId": "ff9708f5-8102-4a37-ae78-98d2efe76345"
      },
      "execution_count": 14,
      "outputs": [
        {
          "output_type": "execute_result",
          "data": {
            "text/plain": [
              "<seaborn.axisgrid.FacetGrid at 0x78ec9c625d80>"
            ]
          },
          "metadata": {},
          "execution_count": 14
        },
        {
          "output_type": "display_data",
          "data": {
            "text/plain": [
              "<Figure size 500x500 with 1 Axes>"
            ],
            "image/png": "[encoded data removed]"
          },
          "metadata": {}
        }
      ]
    },
    {
      "cell_type": "code",
      "source": [
        "sns.heatmap(df.corr(),annot=True)"
      ],
      "metadata": {
        "colab": {
          "base_uri": "https://localhost:8080/",
          "height": 713
        },
        "id": "8eHXjEC9Myby",
        "outputId": "d65dc8d4-05a3-4b10-8f7a-433acf075ec4"
      },
      "execution_count": 15,
      "outputs": [
        {
          "output_type": "stream",
          "name": "stderr",
          "text": [
            "<ipython-input-15-8df7bcac526d>:1: FutureWarning: The default value of numeric_only in DataFrame.corr is deprecated. In a future version, it will default to False. Select only valid columns or specify the value of numeric_only to silence this warning.\n",
            "  sns.heatmap(df.corr(),annot=True)\n"
          ]
        },
        {
          "output_type": "execute_result",
          "data": {
            "text/plain": [
              "<Axes: >"
            ]
          },
          "metadata": {},
          "execution_count": 15
        },
        {
          "output_type": "display_data",
          "data": {
            "text/plain": [
              "<Figure size 640x480 with 2 Axes>"
            ],
            "image/png": "[encoded data removed]"
          },
          "metadata": {}
        }
      ]
    },
    {
      "cell_type": "code",
      "source": [
        "df.columns"
      ],
      "metadata": {
        "colab": {
          "base_uri": "https://localhost:8080/"
        },
        "id": "WD9WMQwGNrwV",
        "outputId": "0130957f-d94a-46a3-ba9a-bc787ff6126f"
      },
      "execution_count": 16,
      "outputs": [
        {
          "output_type": "execute_result",
          "data": {
            "text/plain": [
              "Index(['Avg. Area Income', 'Avg. Area House Age', 'Avg. Area Number of Rooms',\n",
              "       'Avg. Area Number of Bedrooms', 'Area Population', 'Price', 'Address'],\n",
              "      dtype='object')"
            ]
          },
          "metadata": {},
          "execution_count": 16
        }
      ]
    },
    {
      "cell_type": "code",
      "source": [
        "x=df[['Avg. Area Income', 'Avg. Area House Age', 'Avg. Area Number of Rooms',\n",
        "       'Avg. Area Number of Bedrooms', 'Area Population']]\n",
        ""
      ],
      "metadata": {
        "id": "liPRWOKeOFWo"
      },
      "execution_count": 48,
      "outputs": []
    },
    {
      "cell_type": "code",
      "source": [
        "y=df[['Price']]"
      ],
      "metadata": {
        "id": "UDv73QnDT8mo"
      },
      "execution_count": 49,
      "outputs": []
    },
    {
      "cell_type": "code",
      "source": [
        "from sklearn.model_selection import train_test_split"
      ],
      "metadata": {
        "id": "dTHi36VHOXPF"
      },
      "execution_count": 50,
      "outputs": []
    },
    {
      "cell_type": "code",
      "source": [
        "x_train, x_test, y_train, y_test =train_test_split(x, y, test_size=0.4, random_state=101)"
      ],
      "metadata": {
        "id": "prpW14izPAId"
      },
      "execution_count": 36,
      "outputs": []
    },
    {
      "cell_type": "code",
      "source": [
        "from sklearn.linear_model import LinearRegression"
      ],
      "metadata": {
        "id": "17iEf_vFPnwA"
      },
      "execution_count": 37,
      "outputs": []
    },
    {
      "cell_type": "code",
      "source": [
        "lm=LinearRegression()"
      ],
      "metadata": {
        "id": "he1o4E3tQQjP"
      },
      "execution_count": 38,
      "outputs": []
    },
    {
      "cell_type": "code",
      "source": [
        "lm.fit(x_train,y_train)"
      ],
      "metadata": {
        "colab": {
          "base_uri": "https://localhost:8080/",
          "height": 74
        },
        "id": "MVExjLcSQTZP",
        "outputId": "13d0007f-ee88-4f45-be08-2997055cdf0d"
      },
      "execution_count": 51,
      "outputs": [
        {
          "output_type": "execute_result",
          "data": {
            "text/plain": [
              "LinearRegression()"
            ],
            "text/html": [
              "<style>#sk-container-id-3 {color: black;background-color: white;}#sk-container-id-3 pre{padding: 0;}#sk-container-id-3 div.sk-toggleable {background-color: white;}#sk-container-id-3 label.sk-toggleable__label {cursor: pointer;display: block;width: 100%;margin-bottom: 0;padding: 0.3em;box-sizing: border-box;text-align: center;}#sk-container-id-3 label.sk-toggleable__label-arrow:before {content: \"▸\";float: left;margin-right: 0.25em;color: #696969;}#sk-container-id-3 label.sk-toggleable__label-arrow:hover:before {color: black;}#sk-container-id-3 div.sk-estimator:hover label.sk-toggleable__label-arrow:before {color: black;}#sk-container-id-3 div.sk-toggleable__content {max-height: 0;max-width: 0;overflow: hidden;text-align: left;background-color: #f0f8ff;}#sk-container-id-3 div.sk-toggleable__content pre {margin: 0.2em;color: black;border-radius: 0.25em;background-color: #f0f8ff;}#sk-container-id-3 input.sk-toggleable__control:checked~div.sk-toggleable__content {max-height: 200px;max-width: 100%;overflow: auto;}#sk-container-id-3 input.sk-toggleable__control:checked~label.sk-toggleable__label-arrow:before {content: \"▾\";}#sk-container-id-3 div.sk-estimator input.sk-toggleable__control:checked~label.sk-toggleable__label {background-color: #d4ebff;}#sk-container-id-3 div.sk-label input.sk-toggleable__control:checked~label.sk-toggleable__label {background-color: #d4ebff;}#sk-container-id-3 input.sk-hidden--visually {border: 0;clip: rect(1px 1px 1px 1px);clip: rect(1px, 1px, 1px, 1px);height: 1px;margin: -1px;overflow: hidden;padding: 0;position: absolute;width: 1px;}#sk-container-id-3 div.sk-estimator {font-family: monospace;background-color: #f0f8ff;border: 1px dotted black;border-radius: 0.25em;box-sizing: border-box;margin-bottom: 0.5em;}#sk-container-id-3 div.sk-estimator:hover {background-color: #d4ebff;}#sk-container-id-3 div.sk-parallel-item::after {content: \"\";width: 100%;border-bottom: 1px solid gray;flex-grow: 1;}#sk-container-id-3 div.sk-label:hover label.sk-toggleable__label {background-color: #d4ebff;}#sk-container-id-3 div.sk-serial::before {content: \"\";position: absolute;border-left: 1px solid gray;box-sizing: border-box;top: 0;bottom: 0;left: 50%;z-index: 0;}#sk-container-id-3 div.sk-serial {display: flex;flex-direction: column;align-items: center;background-color: white;padding-right: 0.2em;padding-left: 0.2em;position: relative;}#sk-container-id-3 div.sk-item {position: relative;z-index: 1;}#sk-container-id-3 div.sk-parallel {display: flex;align-items: stretch;justify-content: center;background-color: white;position: relative;}#sk-container-id-3 div.sk-item::before, #sk-container-id-3 div.sk-parallel-item::before {content: \"\";position: absolute;border-left: 1px solid gray;box-sizing: border-box;top: 0;bottom: 0;left: 50%;z-index: -1;}#sk-container-id-3 div.sk-parallel-item {display: flex;flex-direction: column;z-index: 1;position: relative;background-color: white;}#sk-container-id-3 div.sk-parallel-item:first-child::after {align-self: flex-end;width: 50%;}#sk-container-id-3 div.sk-parallel-item:last-child::after {align-self: flex-start;width: 50%;}#sk-container-id-3 div.sk-parallel-item:only-child::after {width: 0;}#sk-container-id-3 div.sk-dashed-wrapped {border: 1px dashed gray;margin: 0 0.4em 0.5em 0.4em;box-sizing: border-box;padding-bottom: 0.4em;background-color: white;}#sk-container-id-3 div.sk-label label {font-family: monospace;font-weight: bold;display: inline-block;line-height: 1.2em;}#sk-container-id-3 div.sk-label-container {text-align: center;}#sk-container-id-3 div.sk-container {/* jupyter's `normalize.less` sets `[hidden] { display: none; }` but bootstrap.min.css set `[hidden] { display: none !important; }` so we also need the `!important` here to be able to override the default hidden behavior on the sphinx rendered scikit-learn.org. See: https://github.com/scikit-learn/scikit-learn/issues/21755 */display: inline-block !important;position: relative;}#sk-container-id-3 div.sk-text-repr-fallback {display: none;}</style><div id=\"sk-container-id-3\" class=\"sk-top-container\"><div class=\"sk-text-repr-fallback\"><pre>LinearRegression()</pre><b>In a Jupyter environment, please rerun this cell to show the HTML representation or trust the notebook. <br />On GitHub, the HTML representation is unable to render, please try loading this page with nbviewer.org.</b></div><div class=\"sk-container\" hidden><div class=\"sk-item\"><div class=\"sk-estimator sk-toggleable\"><input class=\"sk-toggleable__control sk-hidden--visually\" id=\"sk-estimator-id-3\" type=\"checkbox\" checked><label for=\"sk-estimator-id-3\" class=\"sk-toggleable__label sk-toggleable__label-arrow\">LinearRegression</label><div class=\"sk-toggleable__content\"><pre>LinearRegression()</pre></div></div></div></div></div>"
            ]
          },
          "metadata": {},
          "execution_count": 51
        }
      ]
    },
    {
      "cell_type": "code",
      "source": [
        "print(lm.intercept_)"
      ],
      "metadata": {
        "colab": {
          "base_uri": "https://localhost:8080/"
        },
        "id": "VrGH1U_JQmOm",
        "outputId": "dc0b9bed-d9c4-4672-dd17-1dc49dd75811"
      },
      "execution_count": 40,
      "outputs": [
        {
          "output_type": "stream",
          "name": "stdout",
          "text": [
            "[-2640159.7968527]\n"
          ]
        }
      ]
    },
    {
      "cell_type": "code",
      "source": [
        "lm.coef_"
      ],
      "metadata": {
        "colab": {
          "base_uri": "https://localhost:8080/"
        },
        "id": "u6KZAmmXR6U8",
        "outputId": "e3a33a4e-f504-4a75-af60-3581cc939223"
      },
      "execution_count": 41,
      "outputs": [
        {
          "output_type": "execute_result",
          "data": {
            "text/plain": [
              "array([[2.15282755e+01, 1.64883282e+05, 1.22368678e+05, 2.23380186e+03,\n",
              "        1.51504200e+01]])"
            ]
          },
          "metadata": {},
          "execution_count": 41
        }
      ]
    },
    {
      "cell_type": "code",
      "source": [
        "x.columns"
      ],
      "metadata": {
        "colab": {
          "base_uri": "https://localhost:8080/"
        },
        "id": "iFxgw9vSSF-N",
        "outputId": "08f06af3-d6df-4164-af5e-66e0ba79225f"
      },
      "execution_count": 54,
      "outputs": [
        {
          "output_type": "execute_result",
          "data": {
            "text/plain": [
              "Index(['Avg. Area Income', 'Avg. Area House Age', 'Avg. Area Number of Rooms',\n",
              "       'Avg. Area Number of Bedrooms', 'Area Population'],\n",
              "      dtype='object')"
            ]
          },
          "metadata": {},
          "execution_count": 54
        }
      ]
    },
    {
      "cell_type": "code",
      "source": [
        "prediction=lm.predict(x_test)"
      ],
      "metadata": {
        "id": "ipBS2RD1Sv3x"
      },
      "execution_count": 55,
      "outputs": []
    },
    {
      "cell_type": "code",
      "source": [
        "prediction"
      ],
      "metadata": {
        "colab": {
          "base_uri": "https://localhost:8080/"
        },
        "id": "77J3zHfQcwUO",
        "outputId": "f0fbbd3f-0f9a-430a-e20d-225ff175957d"
      },
      "execution_count": 56,
      "outputs": [
        {
          "output_type": "execute_result",
          "data": {
            "text/plain": [
              "array([[1260960.70567627],\n",
              "       [ 827588.75560329],\n",
              "       [1742421.24254344],\n",
              "       ...,\n",
              "       [ 372191.40626917],\n",
              "       [1365217.15140898],\n",
              "       [1914519.5417888 ]])"
            ]
          },
          "metadata": {},
          "execution_count": 56
        }
      ]
    },
    {
      "cell_type": "code",
      "source": [
        "y_test"
      ],
      "metadata": {
        "colab": {
          "base_uri": "https://localhost:8080/",
          "height": 887
        },
        "id": "N9SRRNKIc4PM",
        "outputId": "1679b9a3-c2f5-45ef-d9b2-ad289f19e822"
      },
      "execution_count": 58,
      "outputs": [
        {
          "output_type": "execute_result",
          "data": {
            "text/plain": [
              "             Price\n",
              "1718  1.251689e+06\n",
              "2511  8.730483e+05\n",
              "345   1.696978e+06\n",
              "2521  1.063964e+06\n",
              "54    9.487883e+05\n",
              "...            ...\n",
              "1776  1.489520e+06\n",
              "4269  7.777336e+05\n",
              "1661  1.515271e+05\n",
              "2410  1.343824e+06\n",
              "2302  1.906025e+06\n",
              "\n",
              "[2000 rows x 1 columns]"
            ],
            "text/html": [
              "\n",
              "  <div id=\"df-076c2bb5-8f2a-413a-a940-88be74330594\" class=\"colab-df-container\">\n",
              "    <div>\n",
              "<style scoped>\n",
              "    .dataframe tbody tr th:only-of-type {\n",
              "        vertical-align: middle;\n",
              "    }\n",
              "\n",
              "    .dataframe tbody tr th {\n",
              "        vertical-align: top;\n",
              "    }\n",
              "\n",
              "    .dataframe thead th {\n",
              "        text-align: right;\n",
              "    }\n",
              "</style>\n",
              "<table border=\"1\" class=\"dataframe\">\n",
              "  <thead>\n",
              "    <tr style=\"text-align: right;\">\n",
              "      <th></th>\n",
              "      <th>Price</th>\n",
              "    </tr>\n",
              "  </thead>\n",
              "  <tbody>\n",
              "    <tr>\n",
              "      <th>1718</th>\n",
              "      <td>1.251689e+06</td>\n",
              "    </tr>\n",
              "    <tr>\n",
              "      <th>2511</th>\n",
              "      <td>8.730483e+05</td>\n",
              "    </tr>\n",
              "    <tr>\n",
              "      <th>345</th>\n",
              "      <td>1.696978e+06</td>\n",
              "    </tr>\n",
              "    <tr>\n",
              "      <th>2521</th>\n",
              "      <td>1.063964e+06</td>\n",
              "    </tr>\n",
              "    <tr>\n",
              "      <th>54</th>\n",
              "      <td>9.487883e+05</td>\n",
              "    </tr>\n",
              "    <tr>\n",
              "      <th>...</th>\n",
              "      <td>...</td>\n",
              "    </tr>\n",
              "    <tr>\n",
              "      <th>1776</th>\n",
              "      <td>1.489520e+06</td>\n",
              "    </tr>\n",
              "    <tr>\n",
              "      <th>4269</th>\n",
              "      <td>7.777336e+05</td>\n",
              "    </tr>\n",
              "    <tr>\n",
              "      <th>1661</th>\n",
              "      <td>1.515271e+05</td>\n",
              "    </tr>\n",
              "    <tr>\n",
              "      <th>2410</th>\n",
              "      <td>1.343824e+06</td>\n",
              "    </tr>\n",
              "    <tr>\n",
              "      <th>2302</th>\n",
              "      <td>1.906025e+06</td>\n",
              "    </tr>\n",
              "  </tbody>\n",
              "</table>\n",
              "<p>2000 rows × 1 columns</p>\n",
              "</div>\n",
              "    <div class=\"colab-df-buttons\">\n",
              "\n",
              "  <div class=\"colab-df-container\">\n",
              "    <button class=\"colab-df-convert\" onclick=\"convertToInteractive('df-076c2bb5-8f2a-413a-a940-88be74330594')\"\n",
              "            title=\"Convert this dataframe to an interactive table.\"\n",
              "            style=\"display:none;\">\n",
              "\n",
              "  <svg xmlns=\"http://www.w3.org/2000/svg\" height=\"24px\" viewBox=\"0 -960 960 960\">\n",
              "    <path d=\"M120-120v-720h720v720H120Zm60-500h600v-160H180v160Zm220 220h160v-160H400v160Zm0 220h160v-160H400v160ZM180-400h160v-160H180v160Zm440 0h160v-160H620v160ZM180-180h160v-160H180v160Zm440 0h160v-160H620v160Z\"/>\n",
              "  </svg>\n",
              "    </button>\n",
              "\n",
              "  <style>\n",
              "    .colab-df-container {\n",
              "      display:flex;\n",
              "      gap: 12px;\n",
              "    }\n",
              "\n",
              "    .colab-df-convert {\n",
              "      background-color: #E8F0FE;\n",
              "      border: none;\n",
              "      border-radius: 50%;\n",
              "      cursor: pointer;\n",
              "      display: none;\n",
              "      fill: #1967D2;\n",
              "      height: 32px;\n",
              "      padding: 0 0 0 0;\n",
              "      width: 32px;\n",
              "    }\n",
              "\n",
              "    .colab-df-convert:hover {\n",
              "      background-color: #E2EBFA;\n",
              "      box-shadow: 0px 1px 2px rgba(60, 64, 67, 0.3), 0px 1px 3px 1px rgba(60, 64, 67, 0.15);\n",
              "      fill: #174EA6;\n",
              "    }\n",
              "\n",
              "    .colab-df-buttons div {\n",
              "      margin-bottom: 4px;\n",
              "    }\n",
              "\n",
              "    [theme=dark] .colab-df-convert {\n",
              "      background-color: #3B4455;\n",
              "      fill: #D2E3FC;\n",
              "    }\n",
              "\n",
              "    [theme=dark] .colab-df-convert:hover {\n",
              "      background-color: #434B5C;\n",
              "      box-shadow: 0px 1px 3px 1px rgba(0, 0, 0, 0.15);\n",
              "      filter: drop-shadow(0px 1px 2px rgba(0, 0, 0, 0.3));\n",
              "      fill: #FFFFFF;\n",
              "    }\n",
              "  </style>\n",
              "\n",
              "    <script>\n",
              "      const buttonEl =\n",
              "        document.querySelector('#df-076c2bb5-8f2a-413a-a940-88be74330594 button.colab-df-convert');\n",
              "      buttonEl.style.display =\n",
              "        google.colab.kernel.accessAllowed ? 'block' : 'none';\n",
              "\n",
              "      async function convertToInteractive(key) {\n",
              "        const element = document.querySelector('#df-076c2bb5-8f2a-413a-a940-88be74330594');\n",
              "        const dataTable =\n",
              "          await google.colab.kernel.invokeFunction('convertToInteractive',\n",
              "                                                    [key], {});\n",
              "        if (!dataTable) return;\n",
              "\n",
              "        const docLinkHtml = 'Like what you see? Visit the ' +\n",
              "          '<a target=\"_blank\" href=https://colab.research.google.com/notebooks/data_table.ipynb>data table notebook</a>'\n",
              "          + ' to learn more about interactive tables.';\n",
              "        element.innerHTML = '';\n",
              "        dataTable['output_type'] = 'display_data';\n",
              "        await google.colab.output.renderOutput(dataTable, element);\n",
              "        const docLink = document.createElement('div');\n",
              "        docLink.innerHTML = docLinkHtml;\n",
              "        element.appendChild(docLink);\n",
              "      }\n",
              "    </script>\n",
              "  </div>\n",
              "\n",
              "\n",
              "<div id=\"df-4fc15f28-30b6-42ae-bfcd-1a97c5fd8867\">\n",
              "  <button class=\"colab-df-quickchart\" onclick=\"quickchart('df-4fc15f28-30b6-42ae-bfcd-1a97c5fd8867')\"\n",
              "            title=\"Suggest charts.\"\n",
              "            style=\"display:none;\">\n",
              "\n",
              "<svg xmlns=\"http://www.w3.org/2000/svg\" height=\"24px\"viewBox=\"0 0 24 24\"\n",
              "     width=\"24px\">\n",
              "    <g>\n",
              "        <path d=\"M19 3H5c-1.1 0-2 .9-2 2v14c0 1.1.9 2 2 2h14c1.1 0 2-.9 2-2V5c0-1.1-.9-2-2-2zM9 17H7v-7h2v7zm4 0h-2V7h2v10zm4 0h-2v-4h2v4z\"/>\n",
              "    </g>\n",
              "</svg>\n",
              "  </button>\n",
              "\n",
              "<style>\n",
              "  .colab-df-quickchart {\n",
              "      --bg-color: #E8F0FE;\n",
              "      --fill-color: #1967D2;\n",
              "      --hover-bg-color: #E2EBFA;\n",
              "      --hover-fill-color: #174EA6;\n",
              "      --disabled-fill-color: #AAA;\n",
              "      --disabled-bg-color: #DDD;\n",
              "  }\n",
              "\n",
              "  [theme=dark] .colab-df-quickchart {\n",
              "      --bg-color: #3B4455;\n",
              "      --fill-color: #D2E3FC;\n",
              "      --hover-bg-color: #434B5C;\n",
              "      --hover-fill-color: #FFFFFF;\n",
              "      --disabled-bg-color: #3B4455;\n",
              "      --disabled-fill-color: #666;\n",
              "  }\n",
              "\n",
              "  .colab-df-quickchart {\n",
              "    background-color: var(--bg-color);\n",
              "    border: none;\n",
              "    border-radius: 50%;\n",
              "    cursor: pointer;\n",
              "    display: none;\n",
              "    fill: var(--fill-color);\n",
              "    height: 32px;\n",
              "    padding: 0;\n",
              "    width: 32px;\n",
              "  }\n",
              "\n",
              "  .colab-df-quickchart:hover {\n",
              "    background-color: var(--hover-bg-color);\n",
              "    box-shadow: 0 1px 2px rgba(60, 64, 67, 0.3), 0 1px 3px 1px rgba(60, 64, 67, 0.15);\n",
              "    fill: var(--button-hover-fill-color);\n",
              "  }\n",
              "\n",
              "  .colab-df-quickchart-complete:disabled,\n",
              "  .colab-df-quickchart-complete:disabled:hover {\n",
              "    background-color: var(--disabled-bg-color);\n",
              "    fill: var(--disabled-fill-color);\n",
              "    box-shadow: none;\n",
              "  }\n",
              "\n",
              "  .colab-df-spinner {\n",
              "    border: 2px solid var(--fill-color);\n",
              "    border-color: transparent;\n",
              "    border-bottom-color: var(--fill-color);\n",
              "    animation:\n",
              "      spin 1s steps(1) infinite;\n",
              "  }\n",
              "\n",
              "  @keyframes spin {\n",
              "    0% {\n",
              "      border-color: transparent;\n",
              "      border-bottom-color: var(--fill-color);\n",
              "      border-left-color: var(--fill-color);\n",
              "    }\n",
              "    20% {\n",
              "      border-color: transparent;\n",
              "      border-left-color: var(--fill-color);\n",
              "      border-top-color: var(--fill-color);\n",
              "    }\n",
              "    30% {\n",
              "      border-color: transparent;\n",
              "      border-left-color: var(--fill-color);\n",
              "      border-top-color: var(--fill-color);\n",
              "      border-right-color: var(--fill-color);\n",
              "    }\n",
              "    40% {\n",
              "      border-color: transparent;\n",
              "      border-right-color: var(--fill-color);\n",
              "      border-top-color: var(--fill-color);\n",
              "    }\n",
              "    60% {\n",
              "      border-color: transparent;\n",
              "      border-right-color: var(--fill-color);\n",
              "    }\n",
              "    80% {\n",
              "      border-color: transparent;\n",
              "      border-right-color: var(--fill-color);\n",
              "      border-bottom-color: var(--fill-color);\n",
              "    }\n",
              "    90% {\n",
              "      border-color: transparent;\n",
              "      border-bottom-color: var(--fill-color);\n",
              "    }\n",
              "  }\n",
              "</style>\n",
              "\n",
              "  <script>\n",
              "    async function quickchart(key) {\n",
              "      const quickchartButtonEl =\n",
              "        document.querySelector('#' + key + ' button');\n",
              "      quickchartButtonEl.disabled = true;  // To prevent multiple clicks.\n",
              "      quickchartButtonEl.classList.add('colab-df-spinner');\n",
              "      try {\n",
              "        const charts = await google.colab.kernel.invokeFunction(\n",
              "            'suggestCharts', [key], {});\n",
              "      } catch (error) {\n",
              "        console.error('Error during call to suggestCharts:', error);\n",
              "      }\n",
              "      quickchartButtonEl.classList.remove('colab-df-spinner');\n",
              "      quickchartButtonEl.classList.add('colab-df-quickchart-complete');\n",
              "    }\n",
              "    (() => {\n",
              "      let quickchartButtonEl =\n",
              "        document.querySelector('#df-4fc15f28-30b6-42ae-bfcd-1a97c5fd8867 button');\n",
              "      quickchartButtonEl.style.display =\n",
              "        google.colab.kernel.accessAllowed ? 'block' : 'none';\n",
              "    })();\n",
              "  </script>\n",
              "</div>\n",
              "    </div>\n",
              "  </div>\n"
            ]
          },
          "metadata": {},
          "execution_count": 58
        },
        {
          "output_type": "display_data",
          "data": {
            "text/plain": [
              "<google.colab._quickchart_helpers.SectionTitle at 0x78ec461e38b0>"
            ],
            "text/html": [
              "<h4 class=\"colab-quickchart-section-title\">Values</h4>\n",
              "<style>\n",
              "  .colab-quickchart-section-title {\n",
              "      clear: both;\n",
              "  }\n",
              "</style>"
            ]
          },
          "metadata": {}
        },
        {
          "output_type": "display_data",
          "data": {
            "text/plain": [
              "import numpy as np\n",
              "from google.colab import autoviz\n",
              "\n",
              "def value_plot(df, y, figscale=1):\n",
              "  from matplotlib import pyplot as plt\n",
              "  df[y].plot(kind='line', figsize=(8 * figscale, 4 * figscale), title=y)\n",
              "  plt.gca().spines[['top', 'right']].set_visible(False)\n",
              "  plt.tight_layout()\n",
              "  return autoviz.MplChart.from_current_mpl_state()\n",
              "\n",
              "chart = value_plot(y_test, *['Price'], **{})\n",
              "chart"
            ],
            "text/html": [
              "      <div class=\"colab-quickchart-chart-with-code\" id=\"chart-a64622ca-7609-4403-bc77-d753a4c9107b\">\n",
              "        <img src=\"data:image/png;base64,iVBORw0KGgoAAAANSUhEUgAAAYsAAADECAYAAABumQ2GAAAAOXRFWHRTb2Z0d2FyZQBNYXRwbG90\n",
              "bGliIHZlcnNpb24zLjcuMSwgaHR0cHM6Ly9tYXRwbG90bGliLm9yZy/bCgiHAAAACXBIWXMAAA9h\n",
              "AAAPYQGoP6dpAABUYklEQVR4nO2dd3hUZdqH72mZSZlMeu+FQCgJCb0jAvYKrl2w4bq2dS3r7uLq\n",
              "rqvuWvZTt9gQbGsBFBFFBaUqLUAIhJaE9F4nfTLlfH9MMmRID2kk731duZKc+p4p53ee+sokSZIQ\n",
              "CAQCgaAT5IM9AIFAIBAMfYRYCAQCgaBLhFgIBAKBoEuEWAgEAoGgS4RYCAQCgaBLhFgIBAKBoEuE\n",
              "WAgEAoGgS4RYCAQCgaBLhFgIBAKBoEuEWAgE58nHH39MTEzMYA9DIOhXhFgIBOcwb948HBwccHFx\n",
              "wdXVlXHjxrFq1aoOt7/llls4derUAI5QIBh4hFgIBO3wxBNPUFtbS2VlJb///e+5++672b59e5vt\n",
              "jEbjwA9OIBgEhFgIBJ2gUCi49dZb8fT05ODBg8hkMv75z38yY8YMnJ2dWb9+PWvWrCEoKMi2j8lk\n",
              "4tVXXyU2NhatVktQUBB///vfbev37dvHvHnz8PT0JDQ0lJUrV2IymQbj8gSCbiPEQiDoBJPJxIcf\n",
              "fkhFRQWTJ08G4K233uLdd9+ltraWq6++us0+zzzzDP/5z39Ys2YNer2elJQU5syZA8CpU6dYsGAB\n",
              "9913H8XFxezcuZONGzfaiYlAMCSRBAKBHXPnzpXUarWk0+kkT09PKSEhQVqzZo0kSZIESG+++abd\n",
              "9qtXr5YCAwMlSZIki8Uiubi4SGvXrm332A8++KB044032i376KOPpMjIyH64EoGg71AOtlh1xkMP\n",
              "PcTGjRvJzs7m8OHDxMfHd7lPZWUlDzzwAAcOHEClUnHllVfy4osv9v9gBcOKxx57jOeee67ddeHh\n",
              "4R3uV1ZWRm1tbYfZUWlpaWzbtg03NzfbMovFgsViOa/xCgT9zZB2Qy1ZsoTdu3cTGhra7X3uvPNO\n",
              "Jk6cyOnTp0lNTeWRRx7pvwEKRiRyecdfGy8vL1xcXDh9+nS76/38/Lj55pupqqqy/VRXV1NbW9tf\n",
              "wxUI+oQhLRZz5syxCxy2cODAAS666CImTZrExIkTWbt2LQDp6ekkJSXx6KOP2rb18/MbsPEKBDKZ\n",
              "jAcffJCnnnqKpKQkJEmioqKCPXv2AHD//fezbt061q5dS1NTE2azmfT0dL777rtBHrlA0DlDWiza\n",
              "o6qqinvvvZePP/6YpKQktmzZwu9+9zvy8/M5fvw4QUFB/PrXvyYxMZFFixZx+PDhwR6yYITxl7/8\n",
              "hbvvvptbbrkFrVbLhAkT2LVrFwCTJ09my5YtvPPOOwQGBuLp6cmSJUvIzs4e5FELBJ0jk6ShPwd3\n",
              "WFgYGzZsID4+nm+//ZabbrrJzm9cUVHBmjVrqKqqYunSpWzdupX58+ezefNm7r77brKyslCpVIN4\n",
              "BQKBQHBhM6QD3O0hSRJjx47ll19+abMuKSmJwMBA5s+fD8Cll15KU1MT2dnZREVFDfRQBQKBYNhw\n",
              "wbmhZsyYQWZmJlu3brUtS05OpqmpicTERFxdXUlJSQFg//79SJJEcHDwYA1XIBAIhgVD2g21YsUK\n",
              "vvnmG4qKivD09ESr1ZKens6hQ4d47LHHKC8vx2g0EhISwoYNG9BoNBw8eJD777+fhoYG1Go1L7/8\n",
              "MnPnzh3sSxEIBIILmiEtFgKBQCAYGlxwbiiBQCAQDDxCLAQCgUDQJUIsBAKBQNAlQ1IsXnvttcEe\n",
              "gkAgEAhaMSTFQlSzCgQCwdBiSIqFQCAQCIYWQiwEAoFA0CVCLAQCgUDQJRdcbyjBWXaeLqXBaGZq\n",
              "uAduTg6DPRyBQDCMEWJxgfLjiWLuej8JAJkMYv1dmR7hyYwoTyaHeaDViC67AoGg7xBicQ55lfW8\n",
              "+sNptBolYV7OhHk5E+7pTJC7I0rF0PDa6RuM/OHLowB4uThQVttEakE1qQXVvLs7E4VcxvhAHTMi\n",
              "PZke6cmkUA8cHRSDPGqBQHAhI8TiHLafKuWLw/ltlivlMkI8nKwC4ulMuNfZvwPcHFHIZQM2xr9u\n",
              "Ok5xtQEPZwd2P3kR1Q1G9pwpZ++Zcn7JKCe7vJ7k3CqSc6v4z/YMVAoZE4PdmR7pyYxIT+JD3FAr\n",
              "hXh0xsHsSgqqGlgY64tGJV4rgWBINhJ89NFHefXVVwfl3EazhXd2neH9X7IorjZ0ax8HhZwQTyc7\n",
              "EQlv/vHVapD3oZDsSivltlX7bf/rHFWEeVrPGerpTJinEyqFnEJ9AyeLatiTUU6hvtHuGBqVnEmh\n",
              "HkxvtjwmBOqGjNU02NQ0Gnn+25N8sj8HAA9nB26eEsJt00PxddUM8ugEgsFDiEUHNJksbEop4N1d\n",
              "mRwvrG6zfn6MNzkV9eRWNNBktnR4HI1KTpin1QKxikiLqDjjrVUjk3VfSGoNJha8sr3bIqbVKAn1\n",
              "dEKGjIKqBsrrmtrdzkWtZHKYOzMivZge6ckYf9cBtZSGCttPlfDUF0dt4tri4gOrZXnpeH+Wzwwj\n",
              "IcR9MIcpEAwKQiy6QJIk9pwp5x/fnSI5t8pu3ZRwD969YxL6eiOZZXVklddZf5fVkVVeT05FPWZL\n",
              "xy+vs4OCUM+zVkhrMfFwdmgjJCs3HOPDvdbqdkeVgv1/XEB+VQNZZfVkl1vPmV1uPX/BOdZET3DV\n",
              "KJkWYXVZzYjyItrHpUeidqGhrzfy12+Os+5gHgAhHk68eP14poR58MPxYtb8nMX+rArb9nHBbiyf\n",
              "EcZl4/1xUAqLTDAyEGLRA74+UsCDnxxus9zNScWmB2cR5O5kt9xotpBX2UBWWZ29mJTXkV/ZQCc6\n",
              "glajtApIs0VSUt3IpwdybevvnBnO01fGdrh/o9FMbkW9TUAyy+rILq8nq7yOgqrOz90eXi4O3Dg5\n",
              "hGsTAonwch424rHleDF//PIoJTUGZDJYNiOMxxfH4ORgH847lq9nzS9ZbEwusFmS3lo1t04N5eap\n",
              "IXhr1X02JkmSKKpuxM9VM2xeZ8GFjxCLHlKkb+Ta//zcJg7QwvpfTycx1KPL4xhMZnIrGpqtkFZi\n",
              "Uto9q8BBIeeKCf52GVv5VQ3kVNQxMcSd8YG6DgOzBpPZJmLH8qv559bTXZ6vPdycVNw0JYSZkV6E\n",
              "eTnhrxvYQP/5UFHXxLNfp/JVcgEAEV7O/GPJBCaFdf7eldUa+GRfDh/uzaakxuoOdFDIuTIugOUz\n",
              "wxgXqDuvcTU0mfnd2mS+PVrEX68ey23Tw87reALILKvj6yMFuDupuHVaqBDgXiLEohfUGUw8+Mlh\n",
              "fjpZ0uE2r94Qx3UJQb06fqPRTHZ5vU1AXtx8srdDJcTDiaWJQVyfGESAm2Ob9Y+tPWJzv5xLoJsj\n",
              "0b4uJGVVUmswdet8Wo2SKWEeze41p+aguzMBbpohE0T/9mghT391jLLaJuQyuGdOBL+9eFSPsp6a\n",
              "TBY2Hytk9c9Zdu7JyWHuLJsRzuKxvj2+3pKaRu55P4kjeXoA4oPd2PCbmT06hsCKvt7I1ykFfHEo\n",
              "j0M5VQDIZXDquUtRDZHP4YXGiBOLnadL+WhvNpE+LiSEuDMxxA0vl567EExmC3/ddJz393TeIfe+\n",
              "uZE8tmhUr2+UB7MrWfLmL7R+l66OD2DxWD9bfKRFVFqCsV3hoJSzNDGI2dHe3PfRwW7tE+HlzP3z\n",
              "owh2d+SnUyV8si+H6sbuCQhYA8TBHk6ENmeNhXk6EdrsZgtydxyQL3BpjYGnvzrG5mNFAET7uPDS\n",
              "0jjig93O67iHcypZ80sW36QUYmr27/nrNNw2PZSbJofg7tx1df3JomruWpNEflUDOkcV+gYjAPv/\n",
              "uAAfrcjC6g5Gs4Udp0r54nAeW4+X2CWeTI/w5NfzIpkzynsQR3hhM+LE4g9fHuV/+3LsloV4OJEQ\n",
              "4kZCqDsJIe6M9tN2++a++udM/rLpOJIEs6O9mBnl1a4lcNFoH167Mb5bldWPrz3Cz+llzI3xsaVw\n",
              "TgnzYH9WBTIZ/PL7i/DXtbUSahqNZJTW8a+f0tl6orhb4+8tgW6OzIvxJsDNkcq6JoqqG/k5vYzK\n",
              "emOPj6WQywhyd7Sl/rb8DvOyCsn51oRIksRXyQU883UqVfVGFHIZ98+L5IGLovq03qS4upGP92bz\n",
              "8b4cW+aZWinn2omBLJsZxmg/13b3236qhAf+d5hag4kIL2feWzaZhz89zJE8PS9cN56bpoT02RiH\n",
              "G5IkcSy/mvWH8vj6SIFdxp+HswNLEoO4cXIwEd4ugzjK4cGIE4vKuib+tOEY3xwt7HAbR5WC8UE6\n",
              "EkLcbSLSmfWx5XgxD31ymAajmRhfLe8tn0xmaR23rtrXZttAN0c+vXcawR5O7RzJyqJ/7uB0cW27\n",
              "62ZFefHR3VPtluVW1HPTO3upM5gY4+/KGH9XRvtpyats4PvUIk4W1XR4rr5Eq1birVVTVmvokdXR\n",
              "GXIZBLg5EubpfNYq8bKKSbCHE2qlHH2DscPeWMXVjfzxy6NsPWF1GY7xd+WlJRPOO7bQGY1GM5tS\n",
              "Cln9cyapBWfTrqdHeLJ8ZhgLxvjaYjsf7MnimY2pWCSYFuHBm7cm4ubkwL9+SuPlH06zYLQPq5ZN\n",
              "7rexXqgU6RvZkJzPF4fy2nxXpkd4ctPUEBaP9e2X4lN9g5HPD+SSX9XA44tjcFaPjNrmEScWLWxK\n",
              "KWDlhmO2J2GtWsn4IB1H8/XUtHOja219TAx2Z7S/1s51cjRPz13vH6CkxoC3Vs2qOyYxIciN9JIa\n",
              "Lnt9N02mtrUYa++bzuR2AqpPrkvhs6TcNstbeObKWK6IC8DLRU2j0cz1//3F7qbUGqVcZnONtOby\n",
              "Cf7MivLi5e9PdVh/MRAo5DIC3DT46xwJdHPEw9mBIn1jc/ZWHXVN5g73lcmwuedUChmPLYqxWiVe\n",
              "ToR4OLEppZC/bjpOTaMJlULGgxdF8+t5kQPms5YkiaTsSlb/nMn3qcW2NOpgD0dunRrK6eJa1h+y\n",
              "xouWJAbx/LXjbam4J4uqueT/dqFWyjn89MI22Vm9wWyRKKhqIKO0lsyyOs6UWl2YeZX1LJ0UzLIZ\n",
              "YeRW1pPTnPadU1FPRV0TK+ZEMj6o/8QVwGKRSM6rYvPRQn44XoybkwPr7ptu917VN5n4PrWILw7l\n",
              "szu9zM41OxBWRGZZHWt+zmTtwTzqmz+XG34zs9tuTItFIr20luScKry0Dlw02rdfxtlfjFixAKsP\n",
              "e+WGY3yXavVhx/q78tLSCTgo5BzKqeRwThWHcipJK6nl3FdJo5IzIcjNzvpoMlm4c80BThbVoFHJ\n",
              "ee3GiSwe6wdYs2iWrd7Psfy2N/VXlsZxzcRA29Pm//bl2Ho/XTTahwA3DR/ttXedKeQyZkV58XN6\n",
              "GSaLhIezA6/fOJH8qnpOFNZwvLCaE4XV7QpfR3z9wCwO51ZyIKuSpKyKDjO++pu4YDcuHu3D9EhP\n",
              "AtwcKahqIKu83pY5lt38d003g+4A18QHsGisn806GeinwfyqBj7ck82nB3KoOsdVd31CEC8vnWCX\n",
              "pSNJEnNe2kZuRQNv3ZZo+xx1h4q6JjLLasloFoMzzeKQWVaH0dzzr/uKORE8ddmYHu/XFWaLxIGs\n",
              "Cr47VsR3x4ooqj77eQv2cGTb7+Yhl8nYm1nOF4fy2Xy0sM3DQ39bES11Vu/tzuTHkyW2+4Cvq5pH\n",
              "F47iV5M7dhFW1DWRnGu9jxzOqeJIbpXtMyuXwZE/L7qgGn6OaLEA64fh6xRrdkxVvbHdJ9DqRiPJ\n",
              "zcJxKKeK5JzKdt0swR6O5FY02C370+VjuGtWuO1GUGcwsfKrY3xxqG3/qQcviuLX8yL545fH+LK5\n",
              "P9Wepy7iXz+l8/G+HGZHezE/xoevkvNtGTMteGvV/OP6CcyK9rKNW5Ik8qsaOFFYw4lm8ThRWE1W\n",
              "eX2Hr8e4QFfG+LkS5eOCl4uauiYTp4trSMqq5FRxTRvRHCgWxvpy+/RQZkR6oZDLkCSJynojR/Kq\n",
              "WL76QI+P561Vt4mPtLi6+vMLfKa0lote2dFm+ZxR3iyfGcbcaG9be5hnv05l9c9ZLEkM4uWlcXbb\n",
              "7ztTzr+2pRPp7YK3Vs2Z0jrOlNVyvKAaQztWbG+YGOLGpeP8uG1aWJ81ojSaLew9U87mY0X8kFrU\n",
              "JiljSrgHSxODGO3nynephXx5KL9NKvlAWBEGk5mNyQW893MWJ1p1cPBwduD+eZHcOi3ULnvOaLZw\n",
              "srCGwzZxqOz0e/arScH8fcmEfhl7f9EjsWhsbOTGG2/k+PHjODo64uPjw3//+1+ioqLabLtp0yYe\n",
              "e+wxzGYz48ePZ82aNbi6th/gO5fBSJ0tqWnkj18eY8txa2B4XKArryyNJ8ZP22Zbi0XiTFkth7Jb\n",
              "BKR966M1/70lgUlhHrbirSaThbd3ZvDyD53XOHx891Tu//gQ+gYjH901lVnRXgCsO5jHY2uPtNne\n",
              "09mBKyb4c/XEQCYGu7WbU15nMHGyqIYvDuXx8TnB/o5YMNqHQHdH6pvM1BlMtoyiweSmKcFcPj6A\n",
              "r5LzWdtB+i9Ys8cUMhmZzVZJRRduN09nB6sF0kpAWlq26Jx6LyStXZVeLg4snxnO4ZwqfjxZbPvs\n",
              "RHg5c8eMMK5PDOJIbhW3vGuNez19RSzZ5XWcKatj35mKTlvM9BaZzJpIcek4PxaP82s3iQKsDyGl\n",
              "tQbSi2tJK6klraSG9JJa8iobSAhx5+apIUwN97B99gwmM7vTyth8rIitJ4rbWFb+Og3XJwRxcawv\n",
              "KXlVrD+Uz5FzuiWA1Yq4eWoIi/rJigCrB+Cjvdl8tDfbTsi0GiX3zo5g+axwXNRKivSNHM6p5HCu\n",
              "VRhS8vTtinSktzMTQ9wpqGrgl4xywOpy/Pv1Ey6YmqQWeiwWP/30E5deeikymYx//etfrFu3ju3b\n",
              "t9ttV1tbS2RkJDt27GD06NE88MADODo68tJLL3XrPINVZ9GSNfPnjanoG6xWxiMXj2LFnIgus6Na\n",
              "rI/b39vf6Xaezg7Mivaype3G+GnZfLSIRz5Lbnd7lUKG0Szh56rh599fhEIuo7TGwBVv7KK42sCl\n",
              "4/y4Z04EG5ML2mSDhHo6cXV8INfEB3T6BDbxLz/0OIvJUaUg3Mu53b5ZQwlHlYKdT8y3q7DWNxjJ\n",
              "aa5mb2nN0tIupay2875bbk6qs6m/zfGRUE9rUaSbk6rDgq/vU4t45NNkGoxmRvm68N6yybaK/5S8\n",
              "Kp7ZmGqrB+gLxga4EtqcBBDs7oS+wcjxgmqO5FWRV9nQ7j67nphvl3ghSRKF+karIBRbBSG9xCoQ\n",
              "Lam9HRHo5kiAmwZHByWHsyvbuAwdlHIWxfpyTXwgRrOFDcn5/HSypI2bbKAymk4UVvPe7ky+alWh\n",
              "3xqNSs7SxGDK6wwczqlq10Wrc1QRH+zGxBA3Joa4Ex/khs5JxVfJ+fz2s2QsEixtFoq+bC46UJyX\n",
              "GyopKYklS5aQlZVlt3zt2rWsWrWK7777DoDjx4+zaNEi8vI6fvprzWAX5ZVUN/KHVhk0E4J0vLI0\n",
              "jmjftlZGe0iSxLqDeTy+LqXLbTUqORMC3ZgY6sZbO850uN0oXxe+e3gOZknilnf3sT+zgigfFzb8\n",
              "ZiYuzf53o9nC7vQyvjqcz/epxTQYz/p3JwTpuCY+kCvi/Nvk7T/1RQqf7O84oD5Q3Dc3khsmBdn8\n",
              "69abubU4sUDf0GsX2NgAq1stytuFaF8XonxcCPV0bjfQXWswkdWqNUrrnltdNXB0bZ4DxebaarZK\n",
              "tpwotntv758XSWpBNTvTSs/brXfpOD/2ZVbYWUsyGcwd5c24AB21BhM/pBbZuXKUchmeLg64Ozng\n",
              "5KCwidRz14yj1mAirbiW9NJa0otrOkwwkMkg1MPJ+rr6aIn2ccHJQcET61I6jSWND9SxdFIQoZ7O\n",
              "/HiimK+PFLT7oDIQVoTFIrHtVAmrdmfanvq7i0IuY7SflokhbsQHWx/8wj2d24jAhsP5PPq5VShu\n",
              "mBTEi9ddmEIB5ykWt912Gx4eHrz22mt2y1955RVOnz7NW2+9BUB9fT1arRaDwYBSaR9YNBgMGAz2\n",
              "X8KVK1e2OeZAI0kSXxzK59mvU6luNOGgkPPbhaO4Z3Z4jwrsLBaJx9YeaXeOjN6gVsoxmCy4qJVs\n",
              "+M1Monzaf9qqM5jYcryYDcn57Eora9PQ8JWlcSwe54eLWsl7u621IkOF38yP5NqJgUT5WMXZbJH4\n",
              "YE8Wz37dt2MM0GmYEORmE5BIb+tPR/75+iYT2eX2TRtbem4NVDLAvXMi0Ncb+Swpl5umhPDCdeMB\n",
              "62u09UQxv/n4ULvZb71FKZcR5uVMtI9LszC4EO2jJcLbGY1Kgb7eyJYTxXx3rJCdaWXtZv21xtPZ\n",
              "AZmMdgtIB8qKqG408kKrNvTdZWGsL4mh7kwMdmN8kM6WoVbTaMRFrWxjVX55OI/ffX4EiwQ3Tg7m\n",
              "+WvHX7BCAechFs8//zxff/01P/74I05O9jUDPRGLZ555hmeffdZu2bRp09izZ09vhtXnFFc38tQX\n",
              "R22tPeKC3Xhl6QTbjay75FXWc/t7+zlTWtcn44rwcuazFdO71cCurNbApiMFPHPOzVajkrMw1g8v\n",
              "FwdW/5wFWNuVd7e1x0DQOj22I2L9Xbk+MYi/9qHgTY/wZHyQjihvFyKbb5I6R2u8Qt9g7TKclFXB\n",
              "jtOl7Eor69Pzzh7lxcRgd8K9nCmqbuSaf//c7rZPXBLDXbPCO40H9JYoHxf+evU4EkPd23TWLa81\n",
              "8MPxYjYfK+KX5my8c1HIZcwb5U2whxNrfsnq8nyPLRrFPXMiumVFFOkb+fpIAUfz9Ty0ILrDB6bW\n",
              "2yfnVvJ1SiHfpHRcX3UuLZlWiaHuBOisTR2rG40cy9OTnFdFSq6eI3lWl9TNU0N4/trxtn2/OGSN\n",
              "KVoka2ztb9dc2EIBvRSLl19+mU8//ZStW7fi5ubWZn1P3FBD1bJoTYtb6S/NOfsOSjm/WziKu2dH\n",
              "9ChIVd1o5P6PDrE73XpzaYlHnC//WDKBaycGdlo/sDutrN0iwXNZNiPM9uV2clDY8sl7ynUTA3lo\n",
              "QTTF1Y089Onhbs/B0RNifLV8cu803J1UPPv18W7dlC405DJ63CG4OziqFNw/L5IYPy33fmht+XL5\n",
              "eH+O5uvJqbBm8aiVcpYkBnHP7AgcHRR8n1rEt0cL2Z9Z0eGYIr2duT4xCD9XjU3EWrtDO+PRhaNY\n",
              "Mbd9wdA3GPnuWCEbDhewN7Pc9gBxblZRfZOJo3l6knOr+PFkCfszK9ocqyPmxXizYk4kCaHWmSQN\n",
              "JjMnCmtIybPOOnkkt4ozZXVtHl5kMnh8cQz3z7Mm+qw/mMdj644gSXDTlBD+ds24C14ooBdi8eqr\n",
              "r/Lxxx+zdetW3N3bnwSmpqaGyMhIdu7caQtwazQaXn755W6dY7BjFh1RqG/g9+uPsuN0KQAJIW68\n",
              "tDSOyB6YzEazhT99ecxWdDc/xpttp0r7bIz3zomw1n6EutliEw1NZhb93w5yKxqI9HYmo7SOIHdH\n",
              "3rhpIhuPWAPj3e0r1VPig924Jj6AIHfrE2aLUJ6LQi7rdO6P9nBzUvHIgmh2ppW1aeroolZS12RC\n",
              "kqxiOj/Gh0/35/DKlt512O0NPlo17y2bjFajZMmbeyitsRfMaREeuKiVtthYfzPaT2uX/hzo5sj0\n",
              "SE9bI0l3JxVJf1rI96lFvLUjo016dke4qJVcGRfAxGA3Mspq+epwgV3NRE/55J5pTI/0pNFoZtvJ\n",
              "EjYk57PtZKld4DnEw4mcinpc1EqevjKWpKwKPk/qXky0NS3tVFoyHJNz9RzJrSIlr4rjhdVdPsz9\n",
              "36/imR3thWdzhwdrrNIqFDdPDeG5q4eHUEAPxSIvL4/g4GAiIiLQaq1uGLVazb59+3j66acJCAjg\n",
              "vvvuA2Djxo088cQTmEwmxo0bx/vvv49O170q0KEqFmC1MtYm5Vkrgw0m1Eo5jy2K4c5Z4d22Mv67\n",
              "PYO/f9e2f9TTV8T2aewg0M2RhFB3vk8toslkwVurZvPDs5n/8nZqGk2sWT6ZeTE+mMwWov64uc/O\n",
              "2xu2PTaPwzmVPPp523Tg3nL5BH+b2+Gy8X6U1hg4kFXZZ8fvLp7ODgR5OLVJB93y2zm2pIn6JhP7\n",
              "MyvYlFLI10cK+qxWojXv3D4JZwcF/9qW3mlA93cLR7HlRDEpXYjF9AhPFozxwWiW+PZoIUfzuycu\n",
              "vcXLxYFQT2dCPJxsdUi9ZfFYa8uVpKxKW6v53nBx8/WbLBZ+Tj/7mt46LYS/XHVWKOqbTBRUNVJQ\n",
              "1UBBVQNF1Y3MjPJqt4PDUGXEF+X1loKqBp5cn2LzVyeGuvPSkgltAnMmswWFXGYX/HprRwYvnEfb\n",
              "8RaCPRy5Jj6Qj/fldFk70MLkMHfbDXNiiBufr5hOcm4VS98cGjGioYyDQk58iBujfF3w1zni5qTi\n",
              "TGkdP50sIbOsb2JRIwE/V815WR4XCheP8aVQbxWH9jK+Rvtp+e6ROYMwst4xYsWioKqBv317Ah+t\n",
              "2lbzEOjm2KOJUSRJ4tMDufztmxO2oPDisb784bIxBLg5klNRz9X/sgYnrVkkLozy1RLt68LrP6b1\n",
              "aV49WN0yfRHgDPV0ori6kUZj3z/dDhX8XDU8fWUss6K9cNWoMFsk9mSUsyE5n++OFXU7yN/i1hMI\n",
              "uoNWrSTK13ovuD4hiKkRnoM9pG4zIsRC32Bk1e5MnB0Utvmuk3Or2tRBeGvVTAy2FtQkhNinx3VG\n",
              "XmU9T65PsTNDL2QmhbqTlD3w7pqhgL9Og0WS+iUgP9KYM8qbWH9XVAoZSrkcldJaUNqSeTeccXZQ\n",
              "4OHiYNf+5/MV05kc5n7BztQ3Inrrfp9axOs/pnW5XWmNNSXwh+aWH60Lb6zWhzthnk5t3uwgdyc+\n",
              "umsq81/e3mk/mKHKQwui7V6fkSoUwKA1TxxuPHRRFPVNZvacKW+3dcdw5C9XjyXaR0uIpxNfHMzj\n",
              "P9szbOu0aiUTgnQXrFDACBGLKyb480Q3qqnPxWyRSC2oJrWguk3XV4Cp4R7MjvYiwM0RV42KfyyJ\n",
              "Y++Zcl4dwIybvsBfp+m3FE1B9wjxcGJJYhAnCquHRN+t8+X1n9IHewgDysYHZqKQy8gur+fxdUfa\n",
              "tFRZPM7PrvGgJEmU1zVRUNVAfmUD3lp1p/O/NxrNnCmto7imEblMRkZJLRmltWSV1zE13JOHFkT3\n",
              "27W1MCLcUGCtcfgq2TqHhUAgEAw19j61AJVCxrGCarYeL+aH40XdcoeGeTqx/fH5/T6+YW9Z1BpM\n",
              "3L5qH/oGY6ez0wkEAsFgMu2FH3u0fVywG4tifbkuIbCfRmTPsBeL+iZrO+76JrPIWhEIBBc0s6O9\n",
              "WDTWj4VjfPHTabreoQ8Z9mLho9Ww/fF57DtTYZv5LrVA3ydtNgQCgWAgcFQpuGiMD26OKtKKa8go\n",
              "qUUhl9n6og0Ew14swCoYV8YFcGVcAGANFh3IquC2VZ3PPSEQCARDgQajucMmiBeP8T2vSbm6y4gQ\n",
              "ixbMFonH1x6hpMbApDD3PitiEwgEgoFEIZdx3cRApoR7DIhQwAgTC5PFwpbjxdQYTB02tBMIBIKh\n",
              "zA2Tgnj+2vE9mlenLxhRYqFWKvjut3PYfLSQbaes7YtF7EIgEAw2+/6wgMyyOvIrG2yTkunrjfz1\n",
              "m+O2rsCBbo68eP14Zkd7D8oYR0ydRXvUNBr5Ob2c7adK+OlkyXl1nxQIBILe0rpF/1OXjibU04mV\n",
              "X6XatbXXqOS2fm1/v348v5ocMqBjHFGWxbloNSouGefHJeP8kCSJE4U1bDtVwvZTJYPSylogEIxM\n",
              "Ws/l0lFH6taNPbefKuW6hKBOJzzra0a0ZdEZ6SU1XPzqzkEdg0AgELRHy3TD82O8Wb18yoCcc0RY\n",
              "FllldWw5XoxGJcdFo8RFrcJFrUSrUeKiVuKiUZJdXk9pjQGLJGGySJgtFqJ9XEgrqR3s4QsEAoEd\n",
              "LY/4206VIknSgDQoHBFi8bdvT7CluZOsQCAQDBfcnVQYzRIOSiEWfcL98yJxclCQU1FPbkV9v803\n",
              "LRAIBAPF5eP9eXxxDA7KgYlb9EgsHnroITZu3Eh2djaHDx8mPj6+zTbbt2/n0ksvJSYmxrZsz549\n",
              "ODo6nvdgu4MkSbz3cxb5lQ34uKp5d9cZag0mQjycCPFwJsZXS6PRzIbkAuCs708gEAguJL45WkiM\n",
              "n3ZA2pNDD8ViyZIlPPHEE8yaNavT7WJiYkhOTj6fcfWairom/rrpeJvlp4trOV3cNv4ghEIgEFyI\n",
              "XDTah2snDkzHWYAe2S9z5swhKGhgmlb1Fk8XNbdMHdj8Y4FAIBho5o/2GdBpF/olZpGRkUFCQgIK\n",
              "hYLly5dz//33d7itwWDAYLAvhjObzb0+97F8Pf/b33ZWO4FAILjQSQx1x9tFTZC7I5eO8xvQc/e5\n",
              "WCQkJJCXl4dOpyMvL4/LLrsMLy8vbrjhhna3f+GFF3j22Wftlk2bNq3X5/fXaZgV5cWJwhrKakVF\n",
              "tkAguLB5eWkck8PcOZRTycHsSsprm7hnTgReLuoBHUevivLCwsLYsGFDuwHuc3nhhRcoKCjgjTfe\n",
              "aHd9e5bFypUree2113o6LDve2pHB0Xw92eX1HM3Xn9exBAKBYCjx5q2JXHKhWxaFhYX4+voil8up\n",
              "qalh06ZN3HXXXR1ur1arUavtFVKhUHSwdfeobjR2WDIvEAgEFyrXTgzkknF+LIr1HfBz9yjAvWLF\n",
              "CoKCgsjLy2Px4sVERUUBcPfdd7Nx40YA1q9fz/jx44mLi2PatGksXLiQ5cuX9/3IO8FVo+L9O6dw\n",
              "75wILh4z8C+qQCAQ9DV/vWYcK6+IZfFYvwGp2D6XEdEb6rlNx3l3d2afHU8gEAgGi9PPXTpghXit\n",
              "GfgzDgJ3zAgb7CEIBAJBn6BSDLxVASNALBqazMz+x7bBHoZAIBD0CUfyBidhZ9iLxSs/nBrsIQgE\n",
              "AkGfsWz1fk4X1wz4eYd1I8GssjoajL0v8BMIBIKhRlW9kUX/3Mnl4/0JcNOwJDGYGD9tv593WIvF\n",
              "27vO8L99oppbIBAMP745WghAWW0T//xVfL+fb1iLxX1zIlHKZRzN13OisNpuWkKBQCAYDjxy8cB0\n",
              "nR3WMYsQTydG+7litkjMG+Uz4L1UBAKBoL+I8nFhzfLJeDg7DMj5hq1lUVZrYHdaGX/48igAKYOU\n",
              "QSAQCAT9QXpJLctWHwBg7X3TmRzm0a/nG7Zicdf7SRzJrRrsYQgEAsGwYNi6obwHuCOjQCAQDAYL\n",
              "Y3373aqAYSwWb9w0kWeujB3sYQgEAkG/suV4MSU1jf1+nmErFo4OCpbNDOeKCf6DPRSBQCDoV1YN\n",
              "QO+7YSsWAJIksSmlcLCHIRAIBP1GgE7DQxf1f/rssA1wA2SW1Q32EAQCgaBf+PfNCVw+gJ6TYSsW\n",
              "L39/ip9Olgz2MAQCgaBfmBXtNaDnG5ZuKKPZwru7z3C8sHqwhyIQCAT9wu/XpzCQ0xENS7FQKeRs\n",
              "+M1MFo8Vs+QJBILhh0wGm48V8eHe7AE757BzQ0mSxLH8av6yKZUDWZWDPRyBQCDoc1oMiqe/SgXg\n",
              "hknBaFSKfj1njyyLhx56iLCwMGQyGcnJyR1ut2rVKqKjo4mMjOSee+7BaDSe7zi7zatbTnPlv3YL\n",
              "oRAIBCOCp79K5fLXd/X7eXokFkuWLGH37t2EhoZ2uE1mZiYrV65k165dpKenU1xczNtvv33eA+0u\n",
              "OkcVDko58sGZeVAgEAgGnIzS/s/87JFYzJkzh6CgoE63WbduHVdddRV+fn7IZDLuu+8+Pvnkk/Ma\n",
              "ZE+4e3YEb96agM5RNWDnFAgEgsFELrNOId2f9HnMIicnx87yCAsLIyen4wmIDAYDBoPBbpnZfH4X\n",
              "XVDVSGV991xfDko5TSYxz4VAILgwuWtWOAkh7jg69G/MYtAD3C+88ALPPvus3bJp06ad1zFvnRbK\n",
              "1HAPUvL0HCvQk5pfTWqBnrp2lFcIhUAguFCRyeC2aaGEeTn3+7n6XCxCQkLIyMiw/Z+VlUVISEiH\n",
              "2z/11FM8+uijdstWrlx53uOI9tUS7avlsvH+lNcZqG8ys+5gHm/vPHPexxYIBIKhwJOXjB4QoYB+\n",
              "EIvrr7+eWbNm8cwzz+Dr68ubb77JjTfe2OH2arUatdq+nbhC0TfmVE55PZe9votag6lPjicQCARD\n",
              "iRc3n+SO6WH97oKCHga4V6xYQVBQEHl5eSxevJioqCgA7r77bjZu3AhAREQEzz77LDNnziQqKgpv\n",
              "b29WrFjR9yPvBiqlDGd1/7+IAoFA0F8sGO2DUydioG8YmNIEmTSQ9eLd5NFHH+XVV189r2OUVDeS\n",
              "nFtFRmkdx/L1fHNUdJ8VCAQXHl4uDlwyzo/FY/04klvFGz+lY2iOtf5qUjB/vWYcDsr+b8Yx6AHu\n",
              "/qC81sCcl7bRaBTBa4FAcGFTVtvER3tz+Ghv26zSz5JyOZRTyao7JhPi6dSv4xiWvaGc1Urig90G\n",
              "exgCgUDQ76SV1LLuUF6/n2dYWhYalYJP753O//blkJJXxacHcgd7SAKBQGCHu5Oq2/Vg3lo1VfVN\n",
              "GM3WqIGbk4oH5kdhkSTUSgVXxwf051CBYSoWLdw8NYRrJgbwxeH8NvUUKoUMnaOKstqmQRqdQCAY\n",
              "yXQkFC8tmcBoP1dyKuoprzOweKwfvq6aAR5dW4a1WAA4OSh59qqxPPXFUQDmx3jz71sScFQpWHsw\n",
              "jyfWpQzyCAUCgcDK5DB3liQGIZPJGB+kG+zh2DEsYxat+SW9jD9vtLbxvSougHfvmIyTg5JVuzOF\n",
              "UAgEgiHFgaxKwp/6ln9uOc3B7ApM5qGTpDOsLYuD2ZXc/UESTSYLC2N9eeWGOOQyeOWHU7zxU/pg\n",
              "D08gEAja5bUf03jtxzS0aiXTIz2ZPcqbOdFehHoOTLV2ewxbsTiWr2fZ6v3UN5kJcnfkyrgAPt6b\n",
              "zTNfHx/soQkEAkG3qDGY+OF4MT8cLwYgxMOJWdFezIn2Yna0N87qgbuFD8uivOpGI/Ne2k5FnQhe\n",
              "CwSCC4cQDyfig92QyeBMaR1nSmvbbYAKEOOr5fvfzhmwsQ1Ly6Km0URNozXTQCGX4apRdjtFTSAQ\n",
              "CAaLnIp6cirqbf//Y8kE3J0ckMugQN/ImdJazpTWkVlWx2h/7YCObViKRaCbI0l/WojBZEatUHDP\n",
              "B0nsz6oY7GEJBAJBj2hJwpHJrFbHKF8t4wJduW9uJNMjPQd0LMNSLIDmGgoLN7+7l9SCattyJwcF\n",
              "jy2K4Y4ZYbzxUxr/tzVtEEcpEAhGGg8viCbATUN+ZQN5lQ3kVtaTW9FAUXVjh/tIEmSX15NdXs+W\n",
              "48X8e1sG+/+4AB/twNVfDFuxyK9q4LZ393Gm7OzctHNGefO3a8YR7OFEdaNRCIVAIBhwXvvRet9x\n",
              "d1Lx0d1TGRvQfj1FncFESY2BkupG6+9Wf/u6avB2Ube7X38xLMUivaSW21bto1BvVWp3JxVPXxnL\n",
              "NfGByGQyKuuauP29/YM8SnvmjvJmX2Z5h80PPZwduH16qBA4gWCYUFlv5PLXd/Ob+ZHMjvYmIcTd\n",
              "rnuss1pJuFpJ+ABNbtQVw04scsrrueGtPbZMqKvjA3j6ilg8m1W4pKaRRf/cSVUnAe/JYe6U1TaR\n",
              "VV5Hf+aKBbk7sva+6WSU1PHh3ixb35f2qKhr6lAoAt0cya9qsP3/4V1T+GhvNt+nFvf5mAUCQd/y\n",
              "720Z/HtbBs4OCmtNRbQ3s6O9CPdyRiaTDfbwbAw7sTiQVUFFXRMBOg1/u3Y880f72NYVVDUw48Wf\n",
              "2uxz3cRAvjic3+oYlQMy1rzKBqa/0HY8PaW01sC2x+Yx/+XtANy2amhZTQLBQDDaT4vZIlGkb6Tm\n",
              "Apwds67JzNYTJWw9UQJYHwLnjLLWU8yM9ELnpBrU8Q27OguLRSIpu5KxAa52BSv7zpTzq7f3dusY\n",
              "oZ5OZJfXd71hK8YGuDJnlDdTwjxICHVH52h9Y7ccL+aeD5J6dCywdpkc4+/KGH8tsf6uxPq78soP\n",
              "p/kutQiACUE6UvL0PT6uoH/ROaoGbOYywchBLoMJQW7MifZiziiry0ouH1irY9iJRXukl9Ry8as7\n",
              "Olw/JdyD/Zk9S62dEenJ1HBPpoR7EB/sZjcHblmtgROF1by65TSHc6p6PN4VcyPw1WqoM5iobTJR\n",
              "ZzCRVlzLvuYxOijkNA1wzxgnBwVhns6olHKOF+g7dZmNVM51BwpGJg4KOTdOCSbEwwlfVw3ltQaO\n",
              "5lez7VRJnxUK3zM7nD9eHtsnx+ouPXZDpaWlcccdd1BWVoZOp2PNmjWMHTvWbpvt27dz6aWXEhMT\n",
              "Y1u2Z88eHB0dz3/EPeREYTW3vrvP9v/saC9cHVV8k3J2mtXuCMXFY3yYEu7B5DAPxgXqUCnkmMwW\n",
              "Msvq+OF4EccLqzlRWMOJwmpKawznNea3dpzpdH1/C4WnswPl53yoH14QzYGsSn7JKOtQKGZGeZKS\n",
              "p6em8cJzAYR7ORPt44K3Vk1FXROlNQZOFdX0yJ0hhKIt3lo1N04O5li+nqP51ZTVdv3d6M3DW1fM\n",
              "ivJiSrgHWo2Sd3aeoUDfNk011t+Vl5fGERvg2mbdmzsyeHHzSQLdHPnDZWPIrbQWz+U2F9HlVzZg\n",
              "sli/F01mCx/syW5zDA9nB2L9XdE3GCnQN3QYDx3tp+XxxTHUGkyUVBsorT2bBVVaY6CqwUiA28Df\n",
              "S3tsWVx00UXcfvvtLFu2jHXr1vH3v/+dAwcO2G2zfft2HnnkEZKTk3s1qL6yLI7kVnH7e/ttboGO\n",
              "JhvxcnEgwM3R5taZFuGBl4uaKeEeTAn3YJSPlhqDiZOF1c2iYBWG08U1trlw+xOtWjkgPtjND89m\n",
              "jL8reZX1zPr7tj4/voNSznPXjKPRaObpr1L7/Pi9JcZXyys3xJFRWktSViUHsio4WVQz2MPqFiqF\n",
              "jFh/V7y1GsrrDBRWNVJS04hlCBl+oZ5O/OGyMYR5OqNWyjmSV8UPqcV8n1pku8EOBH6uGiaFuTMp\n",
              "1J3iGgMf7clu871SymU8eFE098+PRKU4m5m0P7OCG97ag49Wzb4/LGgTeDaZLRTqG8mtqLcJSU5F\n",
              "g01QurIoFHIZ5lavxWg/LauWTSZwEEShI3okFiUlJURFRVFRUYFSqUSSJPz9/dm9ezdRUVG27YaC\n",
              "WJTWGJj/8nZqu7jJbn9sHqGeTjSZLcT86TsANvxmJoVVDZworOZ4s7XQ0VOjk4OC0X5aAtwcOV5Y\n",
              "zZnSujbbLEkM4pr4QHSOKpzVCpzVSpzVSpxUChpNZj47kMu7uzIH5MlUKZcxPdKT+TE+NJktvLj5\n",
              "ZL+fsy/wdHZgXKCOY/l6O6vngzunkJxbxatbTg/i6IYGfq4aLp/gz6woL4I9HNE3GCnUN1JY1UiB\n",
              "voHCqkZOFlWT1cN43IWGzlHFlHAPFDIZcjkUVDVyLF/fqTD936/iWX8oj11pZYA1BvnKDXGM9rNa\n",
              "GQ1NZsY/8z0mi8TuJ+cT5N6z+a5rGo3kthKPs4JST15FQ7vegpunhvD8teN7dJ7+pEduqNzcXPz9\n",
              "/VEqrbvJZDJCQkLIycmxEwuAjIwMEhISUCgULF++nPvvv7/dYxoMBgwGe9PUbG6/cVZPqDOYaDJZ\n",
              "0KjkxAe7MSnUg8QwdxKC3fnzxmNsSC7g3jkRVNQ38XNGGScKz1Z5X/Pvn9s9ZqCboy3gPKb5p7rR\n",
              "yMd7c/jqSL6tRkKrVnJ9YhC3Tgslysel03E6OShZPjOcW6eF8uGebP6yqe+74ga5OzI/xof5o72Z\n",
              "FuGJk4P1/currO9ULLxc1ET7uLDnTHmfj6mnlNc1seN0aZvlQ6leJtTTiZumhDAn2hs/nQY3RxVy\n",
              "uYxj+XqueGM3ns4OHFy5ELA+iVbUNZFdUc9bO86w9UT7ac49sSqLqhtZtTuTVbsz++yaBoNwL6sF\n",
              "0lvrTt9gZMvxs69ngE7DgjE+qJUKZDJrfcPh7Eq71/WRz5JRtAoYpxZUc+Ubu3noomjumxeJo4OC\n",
              "Mf6uHM3XczinqsdiodWoiA1QtevislgkimsaySlvdm1VNlBWa+CmySG9uPr+o19SZxMSEsjLy0On\n",
              "05GXl8dll12Gl5cXN9xwQ5ttX3jhBZ599lm7ZdOmTTvvMYR5OZPyzCIUcpmdOSlJki1Q/PbOM7y9\n",
              "s/34wLhAVztRGOPnaktdazSa+fZoIb/9PNkugD3aT8vt08O4Oj6g262DLRaJXzLK+Swpl81HC7ve\n",
              "oYfcOi2Ev149rt187UA3R1w1Sqo7iDGU1Rq65WOeM8qbne3cyEca2eVW8X11y2n8XDX4uWrw1WlI\n",
              "au5LVl7XxIGsCvxcNfi4qvFx1eDjqmFymAeSJLE7vYw1P2fx06kSmz/b21XNQ5OjmTPKm/omE5tS\n",
              "Cm1iMDbA1a6VzXAhs6ytdX4+FOgb7WIUHs4OTI3wROeoQi6D+iYzh3IqbUW8LRjNEq9sOc33x4tY\n",
              "vWwKCSFuHM3Xcyinkivj+m7Oa7lchr/OEX+dI1MjBrbfU0/oFzfUubzwwgsUFBTwxhtvtFnXnmWx\n",
              "cuVKXnvttR5cRveRJInxz/xgc095uaiJDbCmqLYEll9ZGsf1iUFt9s2tqOfjfTl8npRr80GqFDIu\n",
              "HefP7dNDSQx173YRTV5lPf+3NY11B/P65LoC3RyZP9qbeaN8mB7pyX+3Z/CvbdYJnv5y9Vhunx7W\n",
              "7n5L3/ylx3Ulkd7OZLTjbutLNCo5ns5q1Eo5DufxlHkh4a/TEO7ljFwmY3d6WZv1N00JZsWcSEI9\n",
              "ncitaCAlv4qUPD37zpRzZJDTqIPcHZHJILfiwgvyOzsoSAh1J8jdCZkMjCYLR/P1nCqusYn2M1fG\n",
              "4u7swMOfJhMX7MZXv5k5uIMeBHpkWfj4+JCQkMBHH33EsmXLWL9+PUFBQW2EorCwEF9fX+RyOTU1\n",
              "NWzatIm77rqr3WOq1WrUavseJwqFot1t+wKZTGaNSegbGO3nirf27LkLqxrZeKSAyvqzPnGLRWJH\n",
              "Wikf7cm2e+IL0Gm4eWoIv5ocYneMjiirNZCUVcFL35/q9Ebr5KBgXKCO+GA3dI4qymub2JRSQEkH\n",
              "GVZ/uGw0F432IdLbxU6ofrdoFCaLxJs7Mnj6q1QamszEBrhSVW/kl4xyPtmf0+WYO6IvhEImo91s\n",
              "kPhgN168fjyFVY2kldSQVlzL2i4EVSGX2bKZon1ciPa1xpDe2XnGVpeiUsiGfLpvob6xzdNtaz7Z\n",
              "n8sn+3P7fRyj/bR4ujhQWmOgrLapW+meeZVdi0SopxM3TwmhyWSh3mimoclMcXUj6SW1pJXU9sXQ\n",
              "e0Vdk9kWqwBr6uuEIB23TA1BKZcT6ObItQlBVDcnyhwv0NNoNKNR9d99aijSYzfUW2+9xbJly3j+\n",
              "+edxdXVl9erVANx9991cddVVXHXVVaxfv57//ve/KJVKTCYTS5cuZfny5X0++N4S5ePSbiyh5aZf\n",
              "WmOgqr6Jz5Ny+Whvjl1/+dnRXtw2LZSLRvugVLQ/hXlNo5Gj+XpS8vSk5FXx7dGiTsezJDGIKeEe\n",
              "jPbTUlpjYFdaGd+nFnWrMPCzA7m4OTkQ4uGMg/KsWMhkMp68JAaLJPH2zjO8MEQC2WqlnHX3zWD5\n",
              "mgPturiSc6u45P92dbh/tI8Lo3y1RPm4EO1r/TvM09mup04LCbcm8NFeaxzIaJZwUSuJ9XdlbKAr\n",
              "Qe5OrE3K7dJi0ajkHfbr6i1ajRIkaDCaBzQbqDtoVHJKagzUNJpwclAQ7O5IhJcz9U1m6pprfmoN\n",
              "pl69Jtnl9b36HHq5WFO5B6oirMlsISm7kqTssxb3huR8Jod5AFb31LF8PZOa/x8pjIiivO7SkksN\n",
              "1ptaS1qsVqNkaWIwt04LIcLbXmQMJjMnCmtIyasiOdfqFsgore30g61zVPHcNeNYNNaXIn0j206W\n",
              "sP10KXsyyu1ScVUKGZNCPazupRgfon2s1kNpjYE1v2TywZ5sW02Dv07DXbPCuWlKCM5qJRaLRGpB\n",
              "Nb//IqVHfu0v7p+Bt4sanZMKFwclErB8zYEOYxIyGcQFuZGcW9XhMWP9XZkU5t5u7nl7qBQyIrxc\n",
              "CPdytlkGLmolB/54sV3xY3epqGtC32Ak1MMJuVzGtlMl/H59CsXVbcXqkrF+1DWZ2J1eZnsPnR0U\n",
              "XDren/hgN/QNRraeKO5VsaWge3z1m5l8lpTL//blcMOkIP6xJA6DyUx+5dlsouzys9lEORX11Hcw\n",
              "m1x/8qtJwbb0eqsbbuj0ceoPhFhgDVhvSinksbVH7JbH+rty+/RQrooPwMlBidkikV5Sy5G8KlLy\n",
              "qjiSq+dkUXW33Buzo724a1Y4U8I9OJBVyfZTJWw/VdommOev0zAvxioOM6O8cOkkUF7TaOST/Tm8\n",
              "uyuzQzdVezy+OIZbp4aic1Lx5eE8fvuZ9brfuX0SC2N9AWts5787MvjHd6c6PM5NU0L47cXRPPxp\n",
              "cocZU92tNl8xN4KJwW5E+WgJ9XRCpZDz6g+neP2ndLRqJd88NJsQz55loJxLrcHE37453q4rZ36M\n",
              "N/9YEmezLguqGvjycD5rk3LtUk1DPJxYkhjE7GgvThXVsOV4MbvTy+xEfl6MN2/dlsh/tmXY2lED\n",
              "XBMfwO708m4lDbSHQi7DR6vGT6fBRa20E7TWTA33IMLbmR9Si9sUV/YEB6UcV40KV0clWo0KV43S\n",
              "9r9aqaDRaKa+yfrTYDRR32TmaF7nKartMT5Qx52zwqhpNDEn2psAN0emPL+VqnojH989lZlRXp3u\n",
              "L0kS5XVN7QtJeX2n80T0JReP8WVujDdTwz2I8nYZ8HYc/c2IFouc8no+2pfN50m5bbrQrv/1DHy0\n",
              "6mZh0JOcW8WxfH2PnmBifLXcMDmYSaHuHMmrYvupUn7JKLMz4ZVyGZPC3JkX48O8GG9ifLXdfkKp\n",
              "bzKxL7OCH08U89He9mMQY/xduWSsH1fG+bfpYllea2DhP3fafNLv3D6JME8nnlif0qdPzg5KOZHe\n",
              "LnbpyS1MDffgvWWT22SP7cko5+Z39yJJ8PpNE7nqPLNP9p0p57F1R9oNwL56QxzXTgxs93WXJImD\n",
              "2ZWsO5jHppRCu7qdGZGeLJ0UxJxob5KyK9naLBzzYnxYNiOMI3lVrD+YZ8u+aw8/Vw2j/LT4uarx\n",
              "0Wrw1qppMJop0jdaf6qtv/uq0O6ZK2NRqxTkVzZwqrgGR5WCoupGipvP090iU5VCho9Wg5+uOevL\n",
              "VYOfTm397arB08WBY/nVbEjOZ/spe6vUzUnV5vs2O9qLRy6OJjHUgx9PFHPX+0l4a9XsfWqBXUpr\n",
              "b2g0msmrbCCrrI53d59h75mBmTXTw9mBhxdEc9u00GEhHCNOLMwWiR2nS/hwTzbbT5fanswcVQqU\n",
              "cpkt99rD2aHdwF5LADrW35XSWmtLiNZuJ61ayeJxfoR5OlFRZ2T76ZI2hXq+rmrmN4vDzCgvtJru\n",
              "dZO0WCSOF1azK62MXWmlJGVVdvnUrpTLuCo+gPvmRjLK137O3t/875Bd25OOcNUoiQt2swsCdsTY\n",
              "AFdbkLnld4iHEwq5DEmS2HysiMfXHqGuycy0CKtQtNR9tFBR18Slr+2kuNpgc0P0lkajmZe+P8V7\n",
              "P2e2eQqfHe3FP5ZMwF/XvSrZ+iYT36cWse5gHj+n21tSTg4Kon21qOQyUguqaTC2fahwd1IxIciN\n",
              "CUE6JgS5ERekw8e1ezOdmcwWymqbmsWjgSJ9I4XVjRQ3B8UP5VT2KIDvqFLgr7Pe5P111hRfP1cN\n",
              "Tq3cfGaLREmNwSomzcJVXN1IWW33rZWWhprdba44O9qLzLI68iobuHNmOE9f2ff9jyRJYsfpUv6z\n",
              "LaPNdMs+WjXTIz1tLq+eWOydcV1CIOMDdYwP1BEb4NrmM38hMGLEoqLOGrD+eF92t9P7VAoZY/xd\n",
              "bV/u+GA3zBaJdQfz+PJwvp2YBLo54uOqxlGl4HBOld3NQiGXkRjqbhOI0X7dtx6K9I3sSitlV1oZ\n",
              "P6eXtXErtG5jPCPSEzcnByRJ4uf0cv67I93upnbxGB9+PS+ShBB3XvnhtC21tq+4f14kD18cjVrZ\n",
              "flxhf2YFy1bvp77JzIxIT1bdMblNDEKSJO75IImtJ0qI9Hbm6wdn9fqLdSS3ikc/T26TvaVSyHjm\n",
              "qrHcPCWkR35mSZIoqm4kJU/P5qOFbEgu6HT7qeEexAVbxSEuyK3P/doWi7U244M92fx4srjTOJlC\n",
              "LiPax4VCfWO3b9wKuQxfrRpfncZOWDyd1XZP+xV1TVbLpNk6afn7fBMDJoa48eQlo22WS2/iVV2x\n",
              "P7OCf29Ltyv4HO2n5ekrY5kR6UVDk9labV1eT3azm2vNL1nndU65DCK9XRgfpLugBGRYi4UkSSTn\n",
              "VvHh3mw2pRTS1ImJLZNBuKezbRrWt25LZO4obzQqBTWNRr4+UshnSbkcaSeQ215apo9WbRd7aHnC\n",
              "6oqGJjP7Mstt1sPpYvuUwp5OkHIkt4o3d2TwXWpRj7NJHFUKon2tmWNfHDo734eLWsk1EwP4eF9O\n",
              "m2OO8nXhpSVxxAW72S3fd6ac5WsOUN9kZmaUJ+/e3lYoANb8nMkzXx/HQSlnw/0z26147Yomk4V/\n",
              "/ZTGv7dn2PXbAWuTupeXxHUr/lFZ12RzQ6bkVXEkT9+jJpGzo71YkhjE4rF+fZpmqW8wsv5gHh/u\n",
              "zbaLec2K8uL26aEsGONr6zW0M60Ui0ViwRhf23YtKauFzTf2s78bKKo2UKRvoLTG0G23l4ezw1kL\n",
              "pdkN5adT4+SgRCYDGTLqmkx21snp4lq7LMPu4KpR4md3Dvu/fVzVeDmre+XyOZqn5z/b0+2+J6/d\n",
              "GM/V8YFttv3zV8d4f082y2aEcd/cSHIq6skur7M1FWwRlZ5YYDYBCdTZRGSoCciwFYtag4k7Vx9o\n",
              "Y2a2EOjmSFywzuYWGB+oQ6tRMeVvWympMfD1A7OobzLxeVIe3x4tbNet0BqFXEZiiDtzY7yZF+NN\n",
              "rL9rt54iLRaJE0VnXUsHMu1dSzIZTAjU2cRh4jlTL3aXV344xRs/dW1JPHhRFAkh7kT5uBDo5mj7\n",
              "4j25LoWdaaXcOi2U26aH8pevj7PuYB4xvlo2PTSLLceLWbnhGOV1TchlcO+cSB65OBqNSsHeM+Us\n",
              "X32ABqOZ2dFevHP7pHZvnqkFeq799y80mS08e9VY7pgR1uPrTC+p5eFPD7fJAFMr5TxxyWiWzwhr\n",
              "92ZSazBxNE/P0XyrKKTkVbVrgbY8occFuTEh2GoxjPLV4qCUU2cwsflYEesO5tr5xbVqJVfEBbAk\n",
              "MYiEELdeWxcni6r5YE82Xx7Kt30eW1rL3DY9lEjvzlvL9AST2UJprcFmKRS2ip+0jqV0N8bh5KCw\n",
              "3dRbKtv9dRq8XNScLKphbVJupzUm3UXZnATgaxdLsf/b11Xd4U04rbiG/+7I4KeTJby0JM6W8NGa\n",
              "DYfzeeSzrovz6gwmW6C9deC9pTdUV27DFgG5dJwfjy6K6XTbgWDYikVOeT3zX9mO2SLh4ezQypWk\n",
              "Y3ygW4eFdJP/trXbT4/eWjVzR3kzP8aHWdHdtx6KqxvZlVbG7rRSdqeXtXkCCdBprOIwyouZkV64\n",
              "Ozt067idsTutjKe+TOnSBbf2vum2fPKO+CWjjJvf2YdMBuvum0FiqDtgdUc8szGVjUes7plIb2eu\n",
              "TwzijR/TuxSK+iYTV7yxmzOldVw8xpd3bk/s1U31hrf2tGlvHRfsxitL42y1NY1GMycKq0nJ09ss\n",
              "h47SnSO8nK0PE80xhrEBum65Q3Ir6ll/KI91B/PsCtYivJ1ZkhjEdROD8NN1Ha8wmi18n1rEB3uy\n",
              "7a5rlK8Lt08P49qJgd1uLdPXSJJEVb3xrIi0IyZF1d13e7VmXow3SrmM7adK7bKrWuaK8NGqm89h\n",
              "sLm9ymoN3baetRplG+ukRWCsf3dspeSU1zPnpW2oFDKOPrO4V1aj2WJ1aeaUNwtJRZ2tS21OeZ1d\n",
              "d2wHhZwjf17UL264njBsxQIgu7wOuUzWpa/YaLbw08kSPj+Qy48nSzrcTi6DhBB3m3sp1t+1WyZv\n",
              "Q5OZ/VkV7DptjT2cKrYvBHNyUDA9wpPZ0V7MHuVNRD/OvZteUsMd7x0gyN0Rb62aPRnldnEQH62a\n",
              "LY/O7VD4Go1mLnttF2fK6rh1WgjPXdO2K+b3qUX88ctjdimiU8M9eP/OKR1+sR5fe4S1B/Pwc9Ww\n",
              "+eHZvRbIB/53iE3NQXuVQsYD86O5aLQPqQV6UvKtFsPJwpp20zsDdBqrpdlsMYwL1HX7AaAjLBZr\n",
              "L7J1B+0tVLkMZkV7szQxiIWxvm1el5LqRv63P4f/7cuxBVkVchmLx/py+/QwpoZ7XDB5/Q1NZoqa\n",
              "3Vw2t5f+rPurqHmuhp7cie6aFc7KK+yD30azhbJW1pBVrAy2v1vO1d2MRqVchrdW3dbtpVPz1BdH\n",
              "aTRaWP/r6SSG9n1xXnWj0erWKq8nwM2xjVt3MBjWYtEV6SW1rE3KZf2h/A5z371crNbDvBirG8jN\n",
              "qeubmMUicbKoxhaY3p9VYRcvkcmsueWzo62B6YReupb6goYmM2sP5trNL+GiVnLL1BDunBWO7znZ\n",
              "Oq9uOc3rP6bhrVXz4+/m4tpBJtemlAIe+N9h2/+Bbo68dmN8u1WvXyXn8/Cnychl8L97pjGtF83U\n",
              "9PVGVn51zGbVgFWELZLUbqDVs5W1GdeFtdlX1BpMfHu0kHUH8+ysBFeNkiub3VQmi8T7v2Tx3bGz\n",
              "cz14uai5eWoIN08J6ZY1ciHS4vY6V0gKz7FSWr5H4wJd2fTg7B6fR5IkagwmSpqtktZpw63/Lqvt\n",
              "Xszm6StiuXNWeI/HcSEy4sSizmDimxRrsPpgq3L+9vj6gVmMDeie9VBS3cju9LLm2ENZG/Hx12ls\n",
              "4jAzyguPPnAt9SUbjxTw0CeH7ZY5KORclxDIvXMiiPB2Ib2klktf24nRLPHvmxO4fIJ/u8faebqU\n",
              "ez5IsvmzWyadkslg+YxwHl8cYzOps8vruPz13dQaTDy0IJpHF47q1nglSaJA30hKbhWv/5Tebg1H\n",
              "C1q1knGBOpvFMCFIR6Db4FbcZpfXsf5gHusP5Xc4j8mkUHdunxHGJWP9Bu1hYijR2u0V7uXcr72Z\n",
              "7FOVz1olLUH6oupGGpvM/PNX8UO6U2xfMmLE4nRxDe/uOsOmlMI2Zqins4PVehjtQ3pJLa//mMbl\n",
              "4/359y0JHR6v0Whmf2aFzXo4t8eQo0rBtAgPZkd7M2eUV5tGf0ONrLI65r28HQeFnH/dPJF3dp2x\n",
              "daOVyWBxrB8700qpbzJz0WgfVt0xqd3r2dEsFE0mCxeP8eHftyTQaLTw3KbjtoaAoZ5O/OP6CUwM\n",
              "cWfpm79wJE/PlDAP/nfP1A77bZXXGuxiDCl5VR1mmySEuNkshglBboR7Og/ZoiiLRWLPmXLWHcxj\n",
              "8zGr++ya+EBumx7K2ADdII9OIDjL0MnL6mdufmev7eYik1m7m84bZa17GB+os91Mvm52Y5wb5JYk\n",
              "e9fSvsyKNqm4La6lWdFeJIa6d1hvMBQJ8XDC2UFBXZOZMC9n1t43g6SsCt7ckcHWEyW2Hk0Ai8e2\n",
              "zRAB2HaqhBUfHqTJZGFhrC//vjkBB6UctVLBS0vjuGyCP3/44ijZ5fX86u29tv10jir+78Z4m1BU\n",
              "Nxo5lqe3ZSWl5Om7nEXQ2UHBB3dNZUKQzm7+kqGOXC5jZpQXM6O8eOE6a/xnpHUzFVwYjBixuGtW\n",
              "BBmltTZXUEduIFvn2VoDJTWN/Jxexq7TZexKL2sjIH6uGltQemakJ54u/evz7k/kcmsBYlJ2JccL\n",
              "qhnlq2VSmAfvhnnwS3oZN7+7z7btk+uP8vG+HH49N5JFY/1QyGVsO9ksFGYLi2J9+VezULRmfowP\n",
              "3/92Ds9/c4JPD5ztzxTm6cT3qUU2y6G9qWllMmtmUoyflu+OFdn8ycEejry0JK5XcY6hhhAJwVBm\n",
              "xIjFr+dFdmu7FrHILKtjyt9+tFunUcmZFmEtiJsT7UWUz9B2LfWU2ACrWJworOaaiWeLkT5Pst7Y\n",
              "dY4qrozzZ93BPFLy9Pz640NEeDlz2Xh/3t55hiazhUvG+vHGzRM7fLp31ah4fHGMnVgcabYiWtNe\n",
              "HUxaSS2PfX7EJhQ3Tw3hD5eN6bTZokAg6BvEt+wc/Fw1OKoUthTHsQGuNnFIDLuwXEs9ZYy/tVr6\n",
              "eKtg8a60UjYkFyCXwQd3TiEu2I3fXjyK93/J4v092Zwpq7O1Dbl0nB+v39SxULTQWSO3u2eF8+t5\n",
              "kXZWmsFk5rWtaby5IwOLZH2P/r5kAnNHeZ/P5QoEgh4gxOIcnNVKPr5nKvmVDUyP9MTrAnYt9ZTY\n",
              "FrEoqEaSJAwmC3/acAyA26eH2XK9PV3UPLoohnvnRvJpcy3A5DAPnrt2XLfiBRfH+vDideNxa26s\n",
              "l1VWx5NfWAsG392dSV2TiacuG4OrRsWxfD2PrT1iSyC4bmIgf75q7HnXPwgEgp4xYrKhBF3TaDQT\n",
              "+/R3WCTY94cFvP9LFv/ZnoGfq4Ytj87pdnfc3lBnMPGP707yfvMESf46DYvH+vHR3mxMFglPZwf+\n",
              "du14Lhnn129jEAgEHXPhpI0I+h2NSmHrL7ThcD5v7zwDwLNXj+1XoQCrRffs1eP49N5phHo6Uahv\n",
              "ZM0vWZgsEpeO8+OH384RQiEQDCLCDSWwY4y/K2kltfzj+1OYLRILY31ZPHbgbtLTIjzZ/PBsXv3h\n",
              "NDtOl/LARVFcFRcwrBIJBIILkR5bFmlpacyYMYNRo0YxefJkUlNT291u1apVREdHExkZyT333IPR\n",
              "2PNmYoKBp6UluNki4eyg4Nmrxg74GJwclPzpili2PDqXq+Pbn8FOIBAMLD0WixUrVnDvvfdy+vRp\n",
              "nnzySZYtW9Zmm8zMTFauXMmuXbtIT0+nuLiYt99+uy/GK+hnWoLcAI8tjiHArXuzyAkEguFNj8Si\n",
              "pKSEpKQkbr31VgCuv/56cnNzSU+3nydh3bp1XHXVVfj5+SGTybjvvvv45JNP+m7Ugn4jMdSdcC9n\n",
              "5ozy5vbpYYM9HIFAMEToUcwiNzcXf39/lErrbjKZjJCQEHJycoiKirJtl5OTQ2hoqO3/sLAwcnJy\n",
              "2j2mwWDAYLCvjDabu9dCWND3OKuV/PS7uQDC/SMQCGwMejbUCy+8gE6ns/vZv3//YA9rRCOTyYRQ\n",
              "CAQCO3okFsHBwRQWFmIymQBrc72cnBxCQkLstgsJCSE7O9v2f1ZWVpttWnjqqafQ6/V2P1OmTOnp\n",
              "dQgEAoGgH+mRWPj4+JCQkMBHH30EwPr16wkKCrJzQYE1lrFx40aKioqQJIk333yTG2+8sd1jqtVq\n",
              "XF1d7X4UiuHbUkMgEAguRHrshnrrrbd46623GDVqFC+++CKrV68G4O6772bjxo0ARERE8OyzzzJz\n",
              "5kyioqLw9vZmxYoVfTtygUAgEAwYQ7Ldx3XXXUdYWFiv9jWbzezfv58pU6aMSAtlJF+/uPaRee0w\n",
              "sq+/L649NDSUhx9+uNNthqRYnA/V1dXodDr0ej2urq5d7zDMGMnXL659ZF47jOzrH6hrH/RsKIFA\n",
              "IBAMfYRYCAQCgaBLhFgIBAKBoEuGnVio1Wr+/Oc/o1aPnEmLWjOSr19c+8i8dhjZ1z9Q1z7sAtwC\n",
              "gUAg6HuGnWUhEAgEgr5HiIVAIBAIukSIhUAgEAi6ZNiJRXdn8rtQeOihhwgLC0Mmk5GcnGxb3tl1\n",
              "9nbdUKOxsZFrrrmGUaNGERcXx8KFC21zp5SUlHDJJZcQHR3NuHHj2Llzp22/3q4baixatIgJEyYQ\n",
              "Hx/P7NmzOXz4MDAy3vsWVq9ejUwmY8OGDcDIeN/BOq1DTEwM8fHxxMfH89lnnwGD/N5Lw4z58+dL\n",
              "q1evliRJktauXStNmjRpcAd0nuzYsUPKzc2VQkNDpcOHD9uWd3advV031GhoaJC++eYbyWKxSJIk\n",
              "SW+88YY0d+5cSZIkafny5dKf//xnSZIkaf/+/VJgYKDU1NR0XuuGGpWVlba/v/jiC2nChAmSJI2M\n",
              "916SJCkzM1OaPn26NG3aNOnLL7+UJGlkvO+SJLX5vrcwmO/9sBKL4uJiSavVSkajUZIkSbJYLJKv\n",
              "r6+UlpY2yCM7f1p/eDq7zt6uuxA4cOCAFBoaKkmSJDk7O0uFhYW2dZMnT5a2bNlyXuuGMqtXr5bi\n",
              "4uJGzHtvNpulBQsWSElJSdLcuXNtYjFS3vf2xGKw3/sezZQ31OnuTH4XOp1dp06n69W6C+H1ee21\n",
              "17j66qspLy/HaDTi5+dnW9cyG2Nv1w1Vbr/9drZt2wbAt99+O2Le+1dffZWZM2eSmJhoWzaS3new\n",
              "vveSJDFlyhRefPHFQX/vh13MQjA8ef7550lPT+eFF14Y7KEMKB988AG5ubk899xzPPnkk4M9nAHh\n",
              "2LFjrF+/nj/96U+DPZRBY+fOnaSkpHDo0CG8vLy44447BntIw0ssujuT34VOZ9fZ23VDmZdffpkv\n",
              "vviCzZs34+TkhKenJ0qlkqKiIts2LbMx9nbdUOeOO+5g27ZtBAUFDfv3fteuXWRlZREdHU1YWBh7\n",
              "9+7l3nvv5fPPPx8x73vL2FQqFY888gi7du0a/O99L11qQ5a5c+faBXISExMHd0B9xLk+zM6us7fr\n",
              "hiKvvPKKlJCQIFVUVNgtv+OOO+wClgEBAbaAZW/XDSUqKyul/Px82/9ffvmlFBgYKFkslhHz3rfQ\n",
              "OmYx3N93SZKk2tpau+SGV155RZo9e7YkSYP7vR92YnHy5Elp2rRpUnR0tJSYmCilpKQM9pDOi3vv\n",
              "vVcKDAyUFAqF5OPjI0VGRkqS1Pl19nbdUCM3N1cCpIiICCkuLk6Ki4uTpkyZIkmSJBUVFUkLFy6U\n",
              "oqKipNjYWOmnn36y7dfbdUOJrKwsafLkydK4ceOkCRMmSAsWLLA9LIyE9741rcViuL/vkiRJGRkZ\n",
              "Unx8vDR+/Hhp3Lhx0lVXXSVlZmZKkjS4773oDSUQCASCLhlWMQuBQCAQ9A9CLAQCgUDQJUIsBAKB\n",
              "QNAlQiwEAoFA0CVCLAQCgUDQJUIsBAKBQNAlQiwEAoFA0CVCLAQCgUDQJUIsBAKBQNAlQiwEAoFA\n",
              "0CVCLAQCgUDQJf8PM2NN3xykj9EAAAAASUVORK5CYII=\n",
              "\">\n",
              "        \n",
              "      </div>\n",
              "      <script></script>\n",
              "      <script type=\"text/javascript\">\n",
              "        (() => {\n",
              "          const chartElement = document.getElementById(\"chart-a64622ca-7609-4403-bc77-d753a4c9107b\");\n",
              "          async function getCodeForChartHandler(event) {\n",
              "            const chartCodeResponse =  await google.colab.kernel.invokeFunction(\n",
              "                'getCodeForChart', [\"chart-a64622ca-7609-4403-bc77-d753a4c9107b\"], {});\n",
              "            const responseJson = chartCodeResponse.data['application/json'];\n",
              "            await google.colab.notebook.addCell(responseJson.code, 'code');\n",
              "          }\n",
              "          chartElement.onclick = getCodeForChartHandler;\n",
              "        })();\n",
              "      </script>\n",
              "      <style>\n",
              "        .colab-quickchart-chart-with-code  {\n",
              "            display: block;\n",
              "            float: left;\n",
              "            border: 1px solid transparent;\n",
              "        }\n",
              "\n",
              "        .colab-quickchart-chart-with-code:hover {\n",
              "            cursor: pointer;\n",
              "            border: 1px solid #aaa;\n",
              "        }\n",
              "      </style>"
            ]
          },
          "metadata": {}
        },
        {
          "output_type": "display_data",
          "data": {
            "text/plain": [
              "<google.colab._quickchart_helpers.SectionTitle at 0x78ec461e0790>"
            ],
            "text/html": [
              "<h4 class=\"colab-quickchart-section-title\">Distributions</h4>\n",
              "<style>\n",
              "  .colab-quickchart-section-title {\n",
              "      clear: both;\n",
              "  }\n",
              "</style>"
            ]
          },
          "metadata": {}
        },
        {
          "output_type": "display_data",
          "data": {
            "text/plain": [
              "import numpy as np\n",
              "from google.colab import autoviz\n",
              "\n",
              "def histogram(df, colname, num_bins=20, figscale=1):\n",
              "  from matplotlib import pyplot as plt\n",
              "  df[colname].plot(kind='hist', bins=num_bins, title=colname, figsize=(8*figscale, 4*figscale))\n",
              "  plt.gca().spines[['top', 'right',]].set_visible(False)\n",
              "  plt.tight_layout()\n",
              "  return autoviz.MplChart.from_current_mpl_state()\n",
              "\n",
              "chart = histogram(y_test, *['Price'], **{})\n",
              "chart"
            ],
            "text/html": [
              "      <div class=\"colab-quickchart-chart-with-code\" id=\"chart-4fdc448b-f5b2-4a4e-bcdb-412c4da6c248\">\n",
              "        <img src=\"data:image/png;base64,iVBORw0KGgoAAAANSUhEUgAAAYwAAADECAYAAACMRRb/AAAAOXRFWHRTb2Z0d2FyZQBNYXRwbG90\n",
              "bGliIHZlcnNpb24zLjcuMSwgaHR0cHM6Ly9tYXRwbG90bGliLm9yZy/bCgiHAAAACXBIWXMAAA9h\n",
              "AAAPYQGoP6dpAAATqklEQVR4nO3df0zU9x3H8deJilo52M45mQhWfjntRKAYwhZ/bDGtbhOnbmnV\n",
              "RacOrE1dQ12rWZq2roGZGFbXxYnOQFIWt/pj0+joZhv7w+lU8FenE2SWHzZQplTRDPn52R9kFxmo\n",
              "3y/eccfd85Fc4n0/n+Pe98lXXny/n/t+vg5jjBEAAA8wyNcFAAAGBgIDAGAJgQEAsITAAABYQmAA\n",
              "ACwhMAAAlhAYAABLCAwAgCUEBgDAEgID8KLf/e53SkxM9HUZgEcQGIANM2fO1NChQzVy5Eg5nU49\n",
              "9thj2rlz5z37L1myROXl5f1YIeA9BAZg04svvqjbt2/r888/1/r167Vq1Sq9//77Pfq1tbX1f3GA\n",
              "FxEYQB+FhIRo6dKlcrlcKisrk8Ph0C9/+UtlZGTokUce0d69e1VUVKSoqCj3a9rb25Wfn69JkyYp\n",
              "LCxMUVFR2rRpk7v9xIkTmjlzplwul2JiYvTyyy+rvb3dFx8P6IHAAPqovb1db731lhobG5WWliZJ\n",
              "Kigo0G9/+1vdvn1bmZmZPV7z6quvauvWrSoqKtLNmzd1/vx5TZ8+XZJUXl6ub33rW1q9erU+++wz\n",
              "ffjhhzpw4EC3QAF8ygCwbMaMGSY0NNSEh4cbl8tlUlJSTFFRkTHGGElm27Zt3foXFhaasWPHGmOM\n",
              "6ezsNCNHjjS7d+/u9Wc/99xz5qmnnuq2rbi42MTGxnrhkwD2DfZ1YAEDzbp16/T666/32vboo4/e\n",
              "83XXrl3T7du37/mtqcuXL+vIkSOKiIhwb+vs7FRnZ+dD1Qt4CqekAA8aNOje/6VGjRqlkSNHqqKi\n",
              "otf2MWPGaPHixbpx44b70dTUpNu3b3urXMAWAgPoJw6HQ88995w2bNig0tJSGWPU2Nio48ePS5LW\n",
              "rFmjPXv2aPfu3WptbVVHR4cqKyv1zjvv+LhyoAuBAfSjjRs3atWqVVqyZInCwsI0ZcoUffTRR5Kk\n",
              "tLQ0HT58WDt27NDYsWPlcrm0aNEiVVdX+7hqoIvDGO7pDQB4MI4wAACWEBgAAEsIDACAJQQGAMAS\n",
              "AgMAYAmBAQCwhMAAAFgScIGxZcsWX5cAAAEp4AKDq2IBwDsCLjAAAN5BYAAALCEwAACWEBgAAEu4\n",
              "4x7QT8avP9Tn11b94tserAToGwIDsOFhfukDAx2npAAAlhAYAABLCAwAgCUEBgDAEgIDAGAJgQEA\n",
              "sITAAABYQmAAACwhMAAAlhAYAABLCAwAgCWsJYWgMxDXg2LhQvgDjjAAAJYQGAAASwgMAIAlzGEA\n",
              "Ae5h52yYA8H/cIQBALDEa4Fx584dzZ8/XwkJCUpKStLs2bNVWVkpSWpoaNCTTz6p+Ph4PfbYY/rw\n",
              "ww/dr7tfGwDAd7x6hJGVlaXy8nKdO3dOmZmZWrVqlSRp/fr1Sk9P1+XLl1VYWKjFixerra3tgW0A\n",
              "AN/xWmAMGzZMc+fOlcPhkCSlp6erqqpKkvT2229r9erVkqS0tDR95Stf0QcffPDANgCA7/TbpPeW\n",
              "LVuUmZmp69evq62tTWPGjHG3jR8/XjU1Nfdt601LS4taWlq6bevo6PDOBwCAINcvk965ubmqrKxU\n",
              "Xl6eR39uXl6ewsPDuz1Onjzp0fcAAHTxemBs3rxZ+/btU0lJiUaMGCGXy6XBgwervr7e3aeqqkrR\n",
              "0dH3bevNhg0bdPPmzW6PadOmefsjAUBQ8mpg5Ofna9euXTp8+LAiIiLc27///e9r27ZtkqRTp07p\n",
              "008/1YwZMx7Y9v9CQ0PldDq7PUJCQrz5kQAgaHltDuPq1at64YUXNGHCBM2aNUtS1y/4EydOaNOm\n",
              "TfrhD3+o+Ph4DR06VMXFxRoyZIgk3bcNAOA7XguMqKgoGWN6bfvyl7+sv/71r7bbAAC+w5XeAABL\n",
              "CAwAgCW2A+Mvf/mLN+oAAPg524GxceNGJSYmasuWLWpqavJGTQAAP2Q7MP72t7/p97//vf7xj38o\n",
              "ISFBa9as0cWLF71RGwDAj/RpDiM5OVk7duzQO++8o4MHD2rKlCmaPXu2Pv74Y0/XBwDwE30KjHff\n",
              "fVeZmZlasGCBnn32WdXX1ys7O1vf+973PF0fAMBP2L4O46tf/apGjRqltWvXasGCBe4rqxctWqSd\n",
              "O3d6vEAAgH+wHRjFxcVKTU3tta2kpOShCwIA+Cfbp6TKysrU2Njofn79+nXt2LHDo0UBAPyPw9xr\n",
              "/Y57mDp1qs6ePdttW3Jyss6cOePJuvosJydH+fn5vi4Dfmz8+kO+LiFoVP3i274uAR5k+wijt3zh\n",
              "pkUAEPhsB0ZkZKTefvtt9/M//OEPioyM9GhRAAD/Y3vS+4033lBmZqZefPFFSdKIESO0f/9+jxcG\n",
              "APAvtgNj4sSJunjxosrLyyVJiYmJ3LQIAIJAn+6H4XA4FBERofb2dn366aeSdM/bqALewMQ10P9s\n",
              "B0ZRUZHWrl2rIUOGaNCgrikQh8OhhoYGjxcHAPAftgPj5z//uU6dOqXExERv1AMA8FO2vyU1atQo\n",
              "wgIAgpDtwJg/f77eeOMNNTQ0qKmpyf0AAAQ226ekfvazn0nquqLa4XDIGCOHw8HFewAQ4GwHRmdn\n",
              "pzfqAAD4uT7dD6OsrExvvfWWJOnGjRuqq6vzaFEAAP9jOzC2bt2qFStW6NVXX5XUtVrt4sWLPV0X\n",
              "AMDP2A6M7du36+9//7ucTqckKTY2Vv/+9789XhgAwL/YDozQ0FANHz6827bBg/t0wTgAYACxHRhf\n",
              "+tKXVFFRIYfDIanrym+WBQGAwNen1WqffvppXbp0SePGjZPT6dTBgwe9URsAwI/YDoy4uDidOHFC\n",
              "5eXlMsawWi0ABAnbgVFTUyNJeuSRRySJ1WoBIEjYDozU1FT3Fd537tzRf/7zH7lcLlarBYAAZzsw\n",
              "/v8rtPv27dO5c+c8VhAAwD/16Urvuy1YsECHDnEzGwAIdLaPMO5embajo0MnTpxgtVoACAK2AyMi\n",
              "IsI9hxESEqL4+Hj96le/8kZtAAA/wmq1AABLWNMDPjF+PfNewEBjOzAGDRrkXhbkbtxICQACm+3A\n",
              "2Lhxo5qbm/XMM89IkrZt26bhw4fr+eef93RtAAA/Yjsw/vjHP6qsrMz9/PXXX1dqaqr71q13W7t2\n",
              "rQ4cOKDq6mqdOXNGU6dOlSRdvnxZy5Yt07Vr1xQeHq6ioiJNnjz5gW0ABpaHOfVY9Ytve7ASeILt\n",
              "6zBu3brV7aruhoYG3bp1q9e+ixYt0tGjRxUTE9Nte3Z2trKyslRRUaGXXnpJy5cvt9QGAPAd24Hx\n",
              "wgsvKCkpSStXrtTKlSuVnJysn/70p732nT59uqKiorpta2hoUGlpqZYuXSpJWrhwoWpra1VZWXnf\n",
              "NgCAb9k+JZWdna2vf/3rOnLkiCQpJyfH1imj2tpaRUZGum+65HA4FB0drZqaGoWHh9+zLS4ursfP\n",
              "amlpUUtLS7dtTLoDgHf06Wu1LpdLX/va1zRz5ky1t7ertbVVQ4cO9XRtD5SXl6fXXnut27b09PR+\n",
              "rwMAgoHtU1J79uxRenq6fvSjH0mSLly4oPnz51t+/bhx41RXV6f29nZJXV/HrampUXR09H3berNh\n",
              "wwbdvHmz22PatGl2PxIAwALbgZGXl6fTp08rIiJCkpSUlKTq6mrLrx89erRSUlJUXFwsSdq7d6+i\n",
              "oqIUFxd337behIaGyul0dntwMycA8A7bp6RCQkLkcrm6bbvX6ajs7GwdOnRI9fX1euKJJxQWFqbK\n",
              "ykoVFBRo+fLlys3NldPpVGFhofs192sDAPiO7cAICwvTZ5995r7a+7333tMXv/jFXvsWFBT0uj0x\n",
              "MVHHjx+33QYA8B3bgbFp0ybNmTNHV65c0Te+8Q198skn3A8DAIKArcDo7OxUR0eHjhw5omPHjskY\n",
              "o4yMDPd8BgAgcNkKjEGDBikrK0vnzp3TnDlzvFUTAMAP2f6WVHx8PFdeA0AQsj2H0djYqKlTpyoj\n",
              "I0MjR450b9+3b59HCwMA+BfLgZGVlaXt27dr2bJlmjdvnr7whS94sy4AgJ+xHBilpaWSpGXLlikl\n",
              "JUWnT5/2WlEAwNLo/sf2HIbUtWQHACC4WD7CaG5u1scffyxjjO7cueP+9/9MmTLFKwUCAPyDrcCY\n",
              "N2+e+/nd/3Y4HLpy5YpnK4Pfe5hTBgAGHsuBUVVV5cUyAAD+rk9zGACA4ENgAAAsITAAAJYQGAAA\n",
              "SwgMAIAlBAYAwBICAwBgCYEBALCEwAAAWEJgAAAsITAAAJYQGAAAS2zfohUA/B03X/IOjjAAAJZw\n",
              "hBHkuKcFAKs4wgAAWEJgAAAsITAAAJYQGAAASwgMAIAlBAYAwBICAwBgCYEBALCEC/cCABffAZ7D\n",
              "siL3xhEGAMASjjAAwEMe9mjf349QCAw/wWklAP7OL09JXb58WRkZGUpISFBaWpouXLjg65IAIOj5\n",
              "ZWBkZ2crKytLFRUVeumll7R8+XJflwQAQc9hjDG+LuJuDQ0NiouLU2NjowYPHixjjCIjI3X06FHF\n",
              "xcU98PU5OTnKz8/vh0p74rQSAF/pj/kPv5vDqK2tVWRkpAYP7irN4XAoOjpaNTU1PQKjpaVFLS0t\n",
              "3bZ1dHT0+b35hQ8A9+Z3gWFHXl6eXnvttW7bJk6cqJycnAe+tqOjQydPntS0adMUEhIiSVrglSr9\n",
              "W2/jEIwYhy6MQ5eBOA45Oe/1+bUxMTH6yU9+8sB+A/qUVG9HGKGhoQoNDX3g+zQ1NSk8PFw3b96U\n",
              "0+n06GcYSBiHLoxDF8ahC+PQO7+b9B49erRSUlJUXFwsSdq7d6+ioqJ6nb8IDQ2V0+ns9rASFgAA\n",
              "+/zylFRBQYGWL1+u3NxcOZ1OFRYW+rokAAh6fhkYiYmJOn78uK/LAADcxe9OSfWX0NBQvfLKK0F/\n",
              "Cotx6MI4dGEcujAOvfO7SW8AgH8K2iMMAIA9BAYAwBICAwBgScAHhtWVb3fu3Kn4+HjFxsbqxz/+\n",
              "sdra2vq5Uu+yMg7vv/++hg8frqlTp7ofzc3NPqjWe9auXavx48fL4XDo7Nmz9+wX6PuDlXEI9P3h\n",
              "zp07mj9/vhISEpSUlKTZs2ersrKy174HDx7UxIkTFR8frwULFqipqamfq/UTJsDNmjXLFBYWGmOM\n",
              "2b17t3n88cd79Lly5YqJjIw0dXV1prOz03z3u981v/71r/u5Uu+yMg5HjhwxSUlJ/VtYP/vggw9M\n",
              "bW2tiYmJMWfOnOm1TzDsD1bGIdD3h+bmZnPo0CHT2dlpjDHmzTffNDNmzOjR79atW2b06NHmn//8\n",
              "pzHGmGeffdasW7euP0v1GwF9hNHQ0KDS0lItXbpUkrRw4ULV1tb2+Ctiz549mjdvnsaMGSOHw6HV\n",
              "q1dr165dvijZK6yOQzCYPn26oqKi7tsn0PcHydo4BLphw4Zp7ty5cjgckqT09HRVVVX16FdSUqLk\n",
              "5GRNnDhRkrRmzZqA2x+sCujAuN/Kt3erqalRTEyM+/n48eN79BnIrI6DJP3rX/9SSkqK0tLStHXr\n",
              "1v4u1S8E+v5gRzDtD1u2bFFmZmaP7b3tD3V1dWpvb+/P8vyCX17pDd9ISUnR1atXFR4erqtXr2ru\n",
              "3LkaNWqUfvCDH/i6NPhAMO0Pubm5qqys1Hvv9X3F12AQ0EcY48aN6/aXgDFGNTU1io6O7tYvOjpa\n",
              "1dXV7udVVVU9+gxkVsfB6XQqPDxckhQVFaWnn35aH330Ub/X62uBvj9YFSz7w+bNm7Vv3z6VlJRo\n",
              "xIgRPdp72x/uPmIPJgEdGFZXvl24cKEOHDig+vp6GWO0bds2PfXUU74o2SusjkNdXZ06OzslSbdu\n",
              "3dLBgweVnJzc7/X6WqDvD1YFw/6Qn5+vXbt26fDhw4qIiOi1z5NPPqnTp0/r0qVLkqStW7cG5f4g\n",
              "KfC/JXXp0iWTnp5u4uPjTWpqqjl//rwxxpiVK1ea/fv3u/tt377dTJgwwUyYMMGsWLHCtLa2+qpk\n",
              "r7AyDm+++aaZNGmSmTJlipk0aZJ55ZVX3N8gCRRZWVlm7NixJiQkxIwePdrExsYaY4Jvf7AyDoG+\n",
              "P9TW1hpJZsKECSYpKckkJSWZadOmGWOMefnll81vfvMbd9/9+/ebxMREExsbazIzM82NGzd8VbZP\n",
              "sZYUAMCSgD4lBQDwHAIDAGAJgQEAsITAAABYQmAAACwhMABggLG66vLdPv/8cy1ZskQJCQmaPHmy\n",
              "1q9fb/t9CQwAGGAWLVqko0ePdlvj6kFWrFih5ORkVVRU6MKFC3r++edtvy+BAQADzL1WGz516pS+\n",
              "+c1v6vHHH1dycrJ2794tSaqsrFRpaalycnLcfceMGWP7fYNvMRQACEA3btxQVlaW/vznPysyMlLX\n",
              "rl1TSkqKMjIydPHiRUVFRemZZ55RaWmpXC6XNm3aZHupFwIDAALAsWPHdOXKFc2ZM6fb9vLycrW3\n",
              "t+vkyZPKzc1VQUGBSkpK9J3vfEdVVVUaMmSI5fcgMAAgABhjNHnyZB07dqxHW2lpqcaOHatZs2ZJ\n",
              "kubMmaPW1lZVV1f3WIT0fpjDAIAAkJGRoU8++UTvvvuue9vZs2fV2tqq1NRUOZ1OnT9/XpJ08uRJ\n",
              "GWM0btw4W+/B4oMAMMBkZ2fr0KFDqq+vl8vlUlhYmCorK3X69GmtW7dO169fV1tbm6Kjo/WnP/1J\n",
              "w4YNU1lZmdasWaPm5maFhoZq8+bNmjFjhq33JTAAAJZwSgoAYAmBAQCwhMAAAFhCYAAALCEwAACW\n",
              "EBgAAEsIDACAJQQGAMASAgMAYAmBAQCwhMAAAFjyX9jzBb5X/YfHAAAAAElFTkSuQmCC\n",
              "\">\n",
              "        \n",
              "      </div>\n",
              "      <script></script>\n",
              "      <script type=\"text/javascript\">\n",
              "        (() => {\n",
              "          const chartElement = document.getElementById(\"chart-4fdc448b-f5b2-4a4e-bcdb-412c4da6c248\");\n",
              "          async function getCodeForChartHandler(event) {\n",
              "            const chartCodeResponse =  await google.colab.kernel.invokeFunction(\n",
              "                'getCodeForChart', [\"chart-4fdc448b-f5b2-4a4e-bcdb-412c4da6c248\"], {});\n",
              "            const responseJson = chartCodeResponse.data['application/json'];\n",
              "            await google.colab.notebook.addCell(responseJson.code, 'code');\n",
              "          }\n",
              "          chartElement.onclick = getCodeForChartHandler;\n",
              "        })();\n",
              "      </script>\n",
              "      <style>\n",
              "        .colab-quickchart-chart-with-code  {\n",
              "            display: block;\n",
              "            float: left;\n",
              "            border: 1px solid transparent;\n",
              "        }\n",
              "\n",
              "        .colab-quickchart-chart-with-code:hover {\n",
              "            cursor: pointer;\n",
              "            border: 1px solid #aaa;\n",
              "        }\n",
              "      </style>"
            ]
          },
          "metadata": {}
        }
      ]
    },
    {
      "cell_type": "code",
      "source": [
        "plt.scatter(y_test,prediction)"
      ],
      "metadata": {
        "colab": {
          "base_uri": "https://localhost:8080/",
          "height": 480
        },
        "id": "yzp_LCctc7_-",
        "outputId": "10840a5a-8a04-4d09-d07f-cc5adc76454a"
      },
      "execution_count": 59,
      "outputs": [
        {
          "output_type": "execute_result",
          "data": {
            "text/plain": [
              "<matplotlib.collections.PathCollection at 0x78ec43aaf8e0>"
            ]
          },
          "metadata": {},
          "execution_count": 59
        },
        {
          "output_type": "display_data",
          "data": {
            "text/plain": [
              "<Figure size 640x480 with 1 Axes>"
            ],
            "image/png": "[encoded data removed]"
          },
          "metadata": {}
        }
      ]
    },
    {
      "cell_type": "code",
      "source": [
        "sns.distplot(y_test-prediction)"
      ],
      "metadata": {
        "colab": {
          "base_uri": "https://localhost:8080/",
          "height": 653
        },
        "id": "BTGdKFBhdN9Z",
        "outputId": "7a8f7942-27d0-4597-ab2a-655ea1ce6b29"
      },
      "execution_count": 60,
      "outputs": [
        {
          "output_type": "stream",
          "name": "stderr",
          "text": [
            "<ipython-input-60-0e5e279aab22>:1: UserWarning: \n",
            "\n",
            "`distplot` is a deprecated function and will be removed in seaborn v0.14.0.\n",
            "\n",
            "Please adapt your code to use either `displot` (a figure-level function with\n",
            "similar flexibility) or `histplot` (an axes-level function for histograms).\n",
            "\n",
            "For a guide to updating your code to use the new functions, please see\n",
            "https://gist.github.com/mwaskom/de44147ed2974457ad6372750bbe5751\n",
            "\n",
            "  sns.distplot(y_test-prediction)\n"
          ]
        },
        {
          "output_type": "execute_result",
          "data": {
            "text/plain": [
              "<Axes: ylabel='Density'>"
            ]
          },
          "metadata": {},
          "execution_count": 60
        },
        {
          "output_type": "display_data",
          "data": {
            "text/plain": [
              "<Figure size 640x480 with 1 Axes>"
            ],
            "image/png": "[encoded data removed]"
          },
          "metadata": {}
        }
      ]
    },
    {
      "cell_type": "code",
      "source": [
        "from sklearn import metrics"
      ],
      "metadata": {
        "id": "V863lN8Sdm_S"
      },
      "execution_count": 62,
      "outputs": []
    },
    {
      "cell_type": "code",
      "source": [
        "metrics.mean_absolute_error(y_test,prediction)"
      ],
      "metadata": {
        "colab": {
          "base_uri": "https://localhost:8080/"
        },
        "id": "Wglxe1NreR8U",
        "outputId": "5b8e318f-f6d6-4aa4-a805-a4b29874f5ae"
      },
      "execution_count": 63,
      "outputs": [
        {
          "output_type": "execute_result",
          "data": {
            "text/plain": [
              "82288.22251914942"
            ]
          },
          "metadata": {},
          "execution_count": 63
        }
      ]
    },
    {
      "cell_type": "code",
      "source": [
        "np.sqrt(metrics.mean_squared_error(y_test,prediction))"
      ],
      "metadata": {
        "colab": {
          "base_uri": "https://localhost:8080/"
        },
        "id": "wGlSPtAJeZ5y",
        "outputId": "8ca44d51-414d-4da6-d80e-2a14d6ea9b1b"
      },
      "execution_count": 65,
      "outputs": [
        {
          "output_type": "execute_result",
          "data": {
            "text/plain": [
              "102278.82922290897"
            ]
          },
          "metadata": {},
          "execution_count": 65
        }
      ]
    },
    {
      "cell_type": "code",
      "source": [],
      "metadata": {
        "id": "bZNnW77zeoMo"
      },
      "execution_count": null,
      "outputs": []
    }
  ]
}